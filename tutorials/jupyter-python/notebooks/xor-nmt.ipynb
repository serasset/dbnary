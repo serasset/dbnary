{
 "cells": [
  {
   "cell_type": "markdown",
   "id": "e9739bed",
   "metadata": {},
   "source": [
    "# XOR as a Neural network (from Ph. Koehn, Neural MT, part 5.7)\n",
    "\n",
    "This is a notebook containing the first Hands On in part 5.7 of Ph. Koehn's Neural MT book. It illustrate the non linearity of NN by simulating XOR operator taht can not be simulated with a linear system.\n",
    "\n",
    "We first import elements and define our small Neural Network : 2 inputs, 1 output + 1 layer of 2 elements, + 1 bias on the input layer, and 1 bias on the output layer :"
   ]
  },
  {
   "cell_type": "code",
   "execution_count": 2,
   "id": "b972934c",
   "metadata": {},
   "outputs": [],
   "source": [
    "import math\n",
    "import numpy as np\n",
    "\n",
    "# Input -> First layer weights and biases \n",
    "W = np.array([[3,4],[2,3]])\n",
    "b = np.array([-2, -4])\n",
    "# First layer -> output layer weights and biases\n",
    "W2 = np.array([5, -5])\n",
    "b2 = np.array([-2])\n"
   ]
  },
  {
   "cell_type": "markdown",
   "id": "f58d989b",
   "metadata": {},
   "source": [
    "Then we define the sigmoid activation function and its derivative. As the function operate element vize, we use numpy to make it a vector defined operation."
   ]
  },
  {
   "cell_type": "code",
   "execution_count": 3,
   "id": "4bda74a2",
   "metadata": {},
   "outputs": [],
   "source": [
    "@np.vectorize\n",
    "def sigmoid(x):\n",
    "    return 1 / (1 + math.exp(-x))\n",
    "\n",
    "@np.vectorize\n",
    "def sigmoid_derivative(x):\n",
    "    return sigmoid(x) * (1 - sigmoid(x))"
   ]
  },
  {
   "cell_type": "markdown",
   "id": "e10a6661",
   "metadata": {},
   "source": [
    "Then we define the input and output layers (for input 1/0, output of XOR is 1)."
   ]
  },
  {
   "cell_type": "code",
   "execution_count": 4,
   "id": "cff032f1",
   "metadata": {},
   "outputs": [],
   "source": [
    "x = np.array([1,0])\n",
    "t = np.array([1])"
   ]
  },
  {
   "cell_type": "markdown",
   "id": "3b65679a",
   "metadata": {},
   "source": [
    "## Forward computation\n",
    "\n",
    "Forward computation is pretty straight...forward..."
   ]
  },
  {
   "cell_type": "code",
   "execution_count": 7,
   "id": "846602f1",
   "metadata": {},
   "outputs": [],
   "source": [
    "# Computing the hidden layer\n",
    "s = W.dot(x) + b \n",
    "h = sigmoid(s) \n",
    "\n",
    "# Computing the output layer\n",
    "z = W2.dot(h) + b2\n",
    "y = sigmoid(z)"
   ]
  },
  {
   "cell_type": "markdown",
   "id": "3e971567",
   "metadata": {},
   "source": [
    "Let's check the output layer value, not so bad (we expect 1)"
   ]
  },
  {
   "cell_type": "code",
   "execution_count": 9,
   "id": "4cdee9b0",
   "metadata": {},
   "outputs": [
    {
     "data": {
      "text/plain": [
       "array([0.7425526])"
      ]
     },
     "execution_count": 9,
     "metadata": {},
     "output_type": "execute_result"
    }
   ],
   "source": [
    "y"
   ]
  },
  {
   "cell_type": "markdown",
   "id": "6171eefc",
   "metadata": {},
   "source": [
    "## Backward computation\n",
    "\n",
    "Backward computation is used to calculate the gradient by which we will influence the weights for them to give better results. Computations is more tedious. We first compute the error, and set a learning rate (µ)."
   ]
  },
  {
   "cell_type": "code",
   "execution_count": 10,
   "id": "608c0dd9",
   "metadata": {},
   "outputs": [],
   "source": [
    "error = 1/2 * (t-y) **2\n",
    "mu = 1 # usually mu has a smaller value (like .001)"
   ]
  },
  {
   "cell_type": "markdown",
   "id": "b483c131",
   "metadata": {},
   "source": [
    "We then propagate the error as a gradient to the hidden layer."
   ]
  },
  {
   "cell_type": "code",
   "execution_count": 18,
   "id": "7b0603a3",
   "metadata": {},
   "outputs": [],
   "source": [
    "delta_2 = (t - y) * sigmoid_derivative(z)\n",
    "delta_W2 = mu * delta_2 * h\n",
    "delta_b2 = mu * delta_2"
   ]
  },
  {
   "cell_type": "markdown",
   "id": "1bb76913",
   "metadata": {},
   "source": [
    "Second, we compute the gradient from hidden layer to input layer."
   ]
  },
  {
   "cell_type": "code",
   "execution_count": 13,
   "id": "59de84fb",
   "metadata": {},
   "outputs": [],
   "source": [
    "delta_1 = delta_2 * W2 * sigmoid_derivative(s)\n",
    "delta_W = mu * np.array([delta_1]).T * x\n",
    "delta_b = mu * delta_1"
   ]
  },
  {
   "cell_type": "markdown",
   "id": "debfa83b",
   "metadata": {},
   "source": [
    "Now is a good time to observe the gradients we computed."
   ]
  },
  {
   "cell_type": "code",
   "execution_count": 20,
   "id": "c4a9a0dc",
   "metadata": {},
   "outputs": [
    {
     "data": {
      "text/plain": [
       "array([0.04921577])"
      ]
     },
     "execution_count": 20,
     "metadata": {},
     "output_type": "execute_result"
    }
   ],
   "source": [
    "delta_2"
   ]
  },
  {
   "cell_type": "code",
   "execution_count": 22,
   "id": "10d91e63",
   "metadata": {},
   "outputs": [
    {
     "data": {
      "text/plain": [
       "array([0.03597961, 0.00586666])"
      ]
     },
     "execution_count": 22,
     "metadata": {},
     "output_type": "execute_result"
    }
   ],
   "source": [
    "delta_W2"
   ]
  },
  {
   "cell_type": "code",
   "execution_count": 19,
   "id": "16f95292",
   "metadata": {},
   "outputs": [
    {
     "data": {
      "text/plain": [
       "array([0.04921577])"
      ]
     },
     "execution_count": 19,
     "metadata": {},
     "output_type": "execute_result"
    }
   ],
   "source": [
    "delta_b2"
   ]
  },
  {
   "cell_type": "code",
   "execution_count": 24,
   "id": "c4c08034",
   "metadata": {},
   "outputs": [
    {
     "data": {
      "text/plain": [
       "array([ 0.04838203, -0.0258367 ])"
      ]
     },
     "metadata": {},
     "output_type": "display_data"
    },
    {
     "data": {
      "text/plain": [
       "array([[ 0.04838203,  0.        ],\n",
       "       [-0.0258367 , -0.        ]])"
      ]
     },
     "metadata": {},
     "output_type": "display_data"
    },
    {
     "data": {
      "text/plain": [
       "array([ 0.04838203, -0.0258367 ])"
      ]
     },
     "execution_count": 24,
     "metadata": {},
     "output_type": "execute_result"
    }
   ],
   "source": [
    "display(delta_1)\n",
    "display(delta_W)\n",
    "delta_b"
   ]
  }
 ],
 "metadata": {
  "kernelspec": {
   "display_name": "Python 3",
   "language": "python",
   "name": "python3"
  },
  "language_info": {
   "codemirror_mode": {
    "name": "ipython",
    "version": 3
   },
   "file_extension": ".py",
   "mimetype": "text/x-python",
   "name": "python",
   "nbconvert_exporter": "python",
   "pygments_lexer": "ipython3",
   "version": "3.8.8"
  }
 },
 "nbformat": 4,
 "nbformat_minor": 5
}
