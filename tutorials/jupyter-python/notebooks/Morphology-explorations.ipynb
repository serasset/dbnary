{
 "cells": [
  {
   "cell_type": "markdown",
   "id": "f9dcc0d0",
   "metadata": {},
   "source": [
    "# Exploring Morphological data after a major refactoring of the French extraction program\n",
    "\n",
    "Before using these, the new version of the extraction program should be run, and the diffs between previous extractions should be computed, especially for the morphology data.\n",
    "\n",
    "A local fuseki server instance must be installed and accessible through the http://localhost:3030 URL.\n",
    "\n",
    "A new (TDB2) dataset must be created, called `fr-morpho` and 3 graph should be created with associated data : \n",
    "* `http://kaiko.getalp.org/fra/lost` contains the lost morphological data\n",
    "* `http://kaiko.getalp.org/fra/gain` contains the gained morphological data\n",
    "* `http://kaiko.getalp.org/fra/` contains the new (complete) morphological data\n"
   ]
  },
  {
   "cell_type": "code",
   "execution_count": 36,
   "id": "f9554d3f",
   "metadata": {},
   "outputs": [
    {
     "data": {
      "text/html": [
       "<div class=\"krn-spql\"><div class=\"magic\">Endpoint set to: http://host.docker.internal:3030/fr-morpho</div><div class=\"magic\">Request format: NONE</div><div class=\"magic\">All headers deleted (2)</div><div class=\"magic\">HTTP method: GET</div><div class=\"magic\">Display: table</div></div>"
      ],
      "text/plain": [
       "Endpoint set to: http://host.docker.internal:3030/fr-morpho\n",
       "Request format: NONE\n",
       "All headers deleted (2)\n",
       "HTTP method: GET\n",
       "Display: table\n"
      ]
     },
     "metadata": {},
     "output_type": "display_data"
    }
   ],
   "source": [
    "%endpoint http://host.docker.internal:3030/fr-morpho\n",
    "# Do not rely on SPARQLWrapper for format description\n",
    "%format none\n",
    "%header OFF\n",
    "%method GET\n",
    "%display table"
   ]
  },
  {
   "cell_type": "code",
   "execution_count": 39,
   "id": "9c5597d2",
   "metadata": {},
   "outputs": [
    {
     "data": {
      "text/html": [
       "<div class=\"krn-spql\"><table><tr class=hdr><th>g</th>\n",
       "<th>count</th></tr><tr class=odd><td class=val><a href=\"http://kaiko.getalp.org/fra/lost\" target=\"_other\">http://kaiko.getalp.org/fra/lost</a></td>\n",
       "<td class=val>943852</td></tr><tr class=even><td class=val><a href=\"http://kaiko.getalp.org/fra/\" target=\"_other\">http://kaiko.getalp.org/fra/</a></td>\n",
       "<td class=val>19515113</td></tr><tr class=odd><td class=val><a href=\"http://kaiko.getalp.org/fra/gain\" target=\"_other\">http://kaiko.getalp.org/fra/gain</a></td>\n",
       "<td class=val>108377</td></tr></table><div class=\"tinfo\">Total: 3, Shown: 3</div></div>"
      ]
     },
     "metadata": {},
     "output_type": "display_data"
    }
   ],
   "source": [
    "SELECT ?g (count(?s) as ?count)\n",
    "WHERE {\n",
    "    GRAPH ?g {?s ?p ?o}\n",
    "} GROUP BY ?g"
   ]
  },
  {
   "cell_type": "code",
   "execution_count": 37,
   "id": "c42e0a26",
   "metadata": {},
   "outputs": [
    {
     "data": {
      "text/html": [
       "<div class=\"krn-spql\"><table><tr class=hdr><th>subject</th>\n",
       "<th>predicate</th>\n",
       "<th>object</th></tr><tr class=odd><td class=val><a href=\"http://kaiko.getalp.org/dbnary/fra/__wf_XvB27g--_qi_gong__nom__1\" target=\"_other\">http://kaiko.getalp.org/dbnary/fra/__wf_XvB27g--_qi_gong__nom__1</a></td>\n",
       "<td class=val><a href=\"http://www.lexinfo.net/ontology/2.0/lexinfo#number\" target=\"_other\">http://www.lexinfo.net/ontology/2.0/lexinfo#number</a></td>\n",
       "<td class=val><a href=\"http://www.lexinfo.net/ontology/2.0/lexinfo#plural\" target=\"_other\">http://www.lexinfo.net/ontology/2.0/lexinfo#plural</a></td></tr><tr class=even><td class=val><a href=\"http://kaiko.getalp.org/dbnary/fra/__wf_t03d1A--_pré-cognition__nom__1\" target=\"_other\">http://kaiko.getalp.org/dbnary/fra/__wf_t03d1A--_pré-cognition__nom__1</a></td>\n",
       "<td class=val><a href=\"http://www.lexinfo.net/ontology/2.0/lexinfo#gender\" target=\"_other\">http://www.lexinfo.net/ontology/2.0/lexinfo#gender</a></td>\n",
       "<td class=val><a href=\"http://www.lexinfo.net/ontology/2.0/lexinfo#feminine\" target=\"_other\">http://www.lexinfo.net/ontology/2.0/lexinfo#feminine</a></td></tr><tr class=odd><td class=val><a href=\"http://kaiko.getalp.org/dbnary/fra/__wf_dOI7WQ--_pré-cognition__nom__1\" target=\"_other\">http://kaiko.getalp.org/dbnary/fra/__wf_dOI7WQ--_pré-cognition__nom__1</a></td>\n",
       "<td class=val><a href=\"http://www.w3.org/ns/lemon/ontolex#writtenRep\" target=\"_other\">http://www.w3.org/ns/lemon/ontolex#writtenRep</a></td>\n",
       "<td class=val>pré-cognitions</td></tr><tr class=even><td class=val><a href=\"http://kaiko.getalp.org/dbnary/fra/__wf_rd1hGA--_qi_gong__nom__1\" target=\"_other\">http://kaiko.getalp.org/dbnary/fra/__wf_rd1hGA--_qi_gong__nom__1</a></td>\n",
       "<td class=val><a href=\"http://www.lexinfo.net/ontology/2.0/lexinfo#gender\" target=\"_other\">http://www.lexinfo.net/ontology/2.0/lexinfo#gender</a></td>\n",
       "<td class=val><a href=\"http://www.lexinfo.net/ontology/2.0/lexinfo#masculine\" target=\"_other\">http://www.lexinfo.net/ontology/2.0/lexinfo#masculine</a></td></tr><tr class=odd><td class=val><a href=\"http://kaiko.getalp.org/dbnary/fra/__wf_HLKxQg--_qi_gong__nom__1\" target=\"_other\">http://kaiko.getalp.org/dbnary/fra/__wf_HLKxQg--_qi_gong__nom__1</a></td>\n",
       "<td class=val><a href=\"http://www.w3.org/ns/lemon/ontolex#phoneticRep\" target=\"_other\">http://www.w3.org/ns/lemon/ontolex#phoneticRep</a></td>\n",
       "<td class=val>ʃi ɡɔ̃ɡ</td></tr><tr class=even><td class=val><a href=\"http://kaiko.getalp.org/dbnary/fra/__wf_meU6Mw--_qi_gong__nom__1\" target=\"_other\">http://kaiko.getalp.org/dbnary/fra/__wf_meU6Mw--_qi_gong__nom__1</a></td>\n",
       "<td class=val><a href=\"http://www.lexinfo.net/ontology/2.0/lexinfo#number\" target=\"_other\">http://www.lexinfo.net/ontology/2.0/lexinfo#number</a></td>\n",
       "<td class=val><a href=\"http://www.lexinfo.net/ontology/2.0/lexinfo#plural\" target=\"_other\">http://www.lexinfo.net/ontology/2.0/lexinfo#plural</a></td></tr><tr class=odd><td class=val><a href=\"http://kaiko.getalp.org/dbnary/fra/__wf_meU6Mw--_qi_gong__nom__1\" target=\"_other\">http://kaiko.getalp.org/dbnary/fra/__wf_meU6Mw--_qi_gong__nom__1</a></td>\n",
       "<td class=val><a href=\"http://www.w3.org/ns/lemon/ontolex#writtenRep\" target=\"_other\">http://www.w3.org/ns/lemon/ontolex#writtenRep</a></td>\n",
       "<td class=val>qi gongs</td></tr><tr class=even><td class=val><a href=\"http://kaiko.getalp.org/dbnary/fra/__wf_6NIkXQ--_qi_gong__nom__1\" target=\"_other\">http://kaiko.getalp.org/dbnary/fra/__wf_6NIkXQ--_qi_gong__nom__1</a></td>\n",
       "<td class=val><a href=\"http://www.w3.org/1999/02/22-rdf-syntax-ns#type\" target=\"_other\">http://www.w3.org/1999/02/22-rdf-syntax-ns#type</a></td>\n",
       "<td class=val><a href=\"http://www.w3.org/ns/lemon/ontolex#Form\" target=\"_other\">http://www.w3.org/ns/lemon/ontolex#Form</a></td></tr><tr class=odd><td class=val><a href=\"http://kaiko.getalp.org/dbnary/fra/__wf_XvB27g--_qi_gong__nom__1\" target=\"_other\">http://kaiko.getalp.org/dbnary/fra/__wf_XvB27g--_qi_gong__nom__1</a></td>\n",
       "<td class=val><a href=\"http://www.w3.org/ns/lemon/ontolex#phoneticRep\" target=\"_other\">http://www.w3.org/ns/lemon/ontolex#phoneticRep</a></td>\n",
       "<td class=val>ʃi ɡɔ̃ɡ\\ ou \\tʃi ɡɔ̃ɡ</td></tr><tr class=even><td class=val><a href=\"http://kaiko.getalp.org/dbnary/fra/__wf_BFncfw--_pré-cognition__nom__1\" target=\"_other\">http://kaiko.getalp.org/dbnary/fra/__wf_BFncfw--_pré-cognition__nom__1</a></td>\n",
       "<td class=val><a href=\"http://www.w3.org/ns/lemon/ontolex#writtenRep\" target=\"_other\">http://www.w3.org/ns/lemon/ontolex#writtenRep</a></td>\n",
       "<td class=val>pré-cognitions</td></tr><tr class=odd><td class=val><a href=\"http://kaiko.getalp.org/dbnary/fra/__wf_meU6Mw--_qi_gong__nom__1\" target=\"_other\">http://kaiko.getalp.org/dbnary/fra/__wf_meU6Mw--_qi_gong__nom__1</a></td>\n",
       "<td class=val><a href=\"http://www.w3.org/ns/lemon/ontolex#phoneticRep\" target=\"_other\">http://www.w3.org/ns/lemon/ontolex#phoneticRep</a></td>\n",
       "<td class=val>tʃi ɡɔ̃ɡ</td></tr><tr class=even><td class=val><a href=\"http://kaiko.getalp.org/dbnary/fra/__wf_rd1hGA--_qi_gong__nom__1\" target=\"_other\">http://kaiko.getalp.org/dbnary/fra/__wf_rd1hGA--_qi_gong__nom__1</a></td>\n",
       "<td class=val><a href=\"http://www.w3.org/ns/lemon/ontolex#writtenRep\" target=\"_other\">http://www.w3.org/ns/lemon/ontolex#writtenRep</a></td>\n",
       "<td class=val>qi gong</td></tr><tr class=odd><td class=val><a href=\"http://kaiko.getalp.org/dbnary/fra/__wf_dOI7WQ--_pré-cognition__nom__1\" target=\"_other\">http://kaiko.getalp.org/dbnary/fra/__wf_dOI7WQ--_pré-cognition__nom__1</a></td>\n",
       "<td class=val><a href=\"http://www.lexinfo.net/ontology/2.0/lexinfo#number\" target=\"_other\">http://www.lexinfo.net/ontology/2.0/lexinfo#number</a></td>\n",
       "<td class=val><a href=\"http://www.lexinfo.net/ontology/2.0/lexinfo#plural\" target=\"_other\">http://www.lexinfo.net/ontology/2.0/lexinfo#plural</a></td></tr><tr class=even><td class=val><a href=\"http://kaiko.getalp.org/dbnary/fra/__wf_6NIkXQ--_qi_gong__nom__1\" target=\"_other\">http://kaiko.getalp.org/dbnary/fra/__wf_6NIkXQ--_qi_gong__nom__1</a></td>\n",
       "<td class=val><a href=\"http://www.w3.org/ns/lemon/ontolex#phoneticRep\" target=\"_other\">http://www.w3.org/ns/lemon/ontolex#phoneticRep</a></td>\n",
       "<td class=val>ʃi ɡɔ̃ɡ</td></tr><tr class=odd><td class=val><a href=\"http://kaiko.getalp.org/dbnary/fra/__wf_dOI7WQ--_pré-cognition__nom__1\" target=\"_other\">http://kaiko.getalp.org/dbnary/fra/__wf_dOI7WQ--_pré-cognition__nom__1</a></td>\n",
       "<td class=val><a href=\"http://www.w3.org/ns/lemon/ontolex#phoneticRep\" target=\"_other\">http://www.w3.org/ns/lemon/ontolex#phoneticRep</a></td>\n",
       "<td class=val>pʁe.kɔɡ.ni.sjɔ̃</td></tr><tr class=even><td class=val><a href=\"http://kaiko.getalp.org/dbnary/fra/__wf_XvB27g--_qi_gong__nom__1\" target=\"_other\">http://kaiko.getalp.org/dbnary/fra/__wf_XvB27g--_qi_gong__nom__1</a></td>\n",
       "<td class=val><a href=\"http://www.w3.org/1999/02/22-rdf-syntax-ns#type\" target=\"_other\">http://www.w3.org/1999/02/22-rdf-syntax-ns#type</a></td>\n",
       "<td class=val><a href=\"http://www.w3.org/ns/lemon/ontolex#Form\" target=\"_other\">http://www.w3.org/ns/lemon/ontolex#Form</a></td></tr><tr class=odd><td class=val><a href=\"http://kaiko.getalp.org/dbnary/fra/__wf_dOI7WQ--_pré-cognition__nom__1\" target=\"_other\">http://kaiko.getalp.org/dbnary/fra/__wf_dOI7WQ--_pré-cognition__nom__1</a></td>\n",
       "<td class=val><a href=\"http://www.w3.org/ns/lemon/ontolex#phoneticRep\" target=\"_other\">http://www.w3.org/ns/lemon/ontolex#phoneticRep</a></td>\n",
       "<td class=val>pʁe.kɔ.ni.sjɔ̃</td></tr><tr class=even><td class=val><a href=\"http://kaiko.getalp.org/dbnary/fra/__wf_rd1hGA--_qi_gong__nom__1\" target=\"_other\">http://kaiko.getalp.org/dbnary/fra/__wf_rd1hGA--_qi_gong__nom__1</a></td>\n",
       "<td class=val><a href=\"http://www.w3.org/ns/lemon/ontolex#phoneticRep\" target=\"_other\">http://www.w3.org/ns/lemon/ontolex#phoneticRep</a></td>\n",
       "<td class=val>ʃi ɡɔ̃ɡ\\ ou \\tʃi ɡɔ̃ɡ</td></tr><tr class=odd><td class=val><a href=\"http://kaiko.getalp.org/dbnary/fra/__wf_t03d1A--_pré-cognition__nom__1\" target=\"_other\">http://kaiko.getalp.org/dbnary/fra/__wf_t03d1A--_pré-cognition__nom__1</a></td>\n",
       "<td class=val><a href=\"http://www.w3.org/1999/02/22-rdf-syntax-ns#type\" target=\"_other\">http://www.w3.org/1999/02/22-rdf-syntax-ns#type</a></td>\n",
       "<td class=val><a href=\"http://www.w3.org/ns/lemon/ontolex#Form\" target=\"_other\">http://www.w3.org/ns/lemon/ontolex#Form</a></td></tr><tr class=even><td class=val><a href=\"http://kaiko.getalp.org/dbnary/fra/__wf_rd1hGA--_qi_gong__nom__1\" target=\"_other\">http://kaiko.getalp.org/dbnary/fra/__wf_rd1hGA--_qi_gong__nom__1</a></td>\n",
       "<td class=val><a href=\"http://www.lexinfo.net/ontology/2.0/lexinfo#number\" target=\"_other\">http://www.lexinfo.net/ontology/2.0/lexinfo#number</a></td>\n",
       "<td class=val><a href=\"http://www.lexinfo.net/ontology/2.0/lexinfo#singular\" target=\"_other\">http://www.lexinfo.net/ontology/2.0/lexinfo#singular</a></td></tr></table><div class=\"tinfo\">Shown: 20, Total rows: 41</div></div>"
      ]
     },
     "metadata": {},
     "output_type": "display_data"
    }
   ],
   "source": [
    "PREFIX ontolex: <http://www.w3.org/ns/lemon/ontolex#>\n",
    "prefix owl: <http://www.w3.org/2002/07/owl#>\n",
    "prefix rdfs: <http://www.w3.org/2000/01/rdf-schema#>\n",
    "\n",
    "DESCRIBE ?wf ?wf2\n",
    "FROM <http://kaiko.getalp.org/fra/gain>\n",
    "FROM NAMED <http://kaiko.getalp.org/fra/lost>\n",
    "WHERE {\n",
    "  ?le ontolex:otherForm ?wf . ?wf ontolex:writtenRep ?wr.\n",
    "  GRAPH <http://kaiko.getalp.org/fra/lost> {\n",
    "   ?le ontolex:otherForm ?wf2 . ?wf2 ontolex:writtenRep ?wr .\n",
    "  }\n",
    "}\n",
    "LIMIT 5"
   ]
  }
 ],
 "metadata": {
  "kernelspec": {
   "display_name": "SPARQL",
   "language": "sparql",
   "name": "sparql"
  },
  "language_info": {
   "codemirror_mode": {
    "name": "sparql"
   },
   "mimetype": "application/sparql-query",
   "name": "sparql",
   "pygments_lexer": "sparql-nb"
  }
 },
 "nbformat": 4,
 "nbformat_minor": 5
}
