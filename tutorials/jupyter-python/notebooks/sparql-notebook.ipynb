{
 "cells": [
  {
   "cell_type": "markdown",
   "id": "81b43e5d",
   "metadata": {},
   "source": [
    "# Introduction to querying DBnary with SPARQL\n",
    "\n",
    "We will experiment here with the SPARQL kernel. First see what are the available magics :"
   ]
  },
  {
   "cell_type": "code",
   "execution_count": 1,
   "id": "a5ac9055",
   "metadata": {},
   "outputs": [
    {
     "data": {
      "text/html": [
       "<div class=\"krn-spql\"><div class=\"magic-help\">Available magics:<br/>%auth  %display  %endpoint  %format  %graph  %header  %http_header  %lang  %load  %log  %lsmagics  %method  %outfile  %prefix  %qparam  %show<br/><br/>%auth (basic|digest|none) &lt;username&gt; &lt;passwd&gt; : send HTTP authentication (use env:&lt;var&gt; to get values from environment variables)<br/>%display raw | table [withtypes] | diagram [svg|png] [withliterals] : set display format<br/>%endpoint &lt;url&gt; : set SPARQL endpoint. **REQUIRED**<br/>%format JSON | N3 | XML | default | any | none : set requested result format<br/>%graph &lt;uri&gt; : set default graph for the queries<br/>%header &lt;string&gt; | OFF : add a persistent SPARQL header line before all queries, or delete all defined headers<br/>%http_header &lt;name&gt; [&lt;value&gt;] : add (or delete) an arbitrary HTTP header to all queries<br/>%lang &lt;lang&gt; [...] | default | all : language(s) preferred for labels<br/>%load &lt;filename&gt; : load a file with magic lines and process them<br/>%log critical | error | warning | info | debug : set logging level<br/>%lsmagics  : list all magics<br/>%method get | post : set HTTP method<br/>%outfile &lt;filename&gt; | off : save raw output to a file (use &quot;%d&quot; in name to add cell number, &quot;off&quot; to cancel saving)<br/>%prefix &lt;name&gt; [&lt;uri&gt;] : set (or delete) a persistent URI prefix for all queries<br/>%qparam &lt;name&gt; [&lt;value&gt;] : add (or delete) a persistent custom parameter to all queries<br/>%show &lt;n&gt; | all : maximum number of shown results</div></div>"
      ],
      "text/plain": [
       "Available magics:\n",
       "%auth  %display  %endpoint  %format  %graph  %header  %http_header  %lang  %load  %log  %lsmagics  %method  %outfile  %prefix  %qparam  %show\n",
       "\n",
       "%auth (basic|digest|none) <username> <passwd> : send HTTP authentication (use env:<var> to get values from environment variables)\n",
       "%display raw | table [withtypes] | diagram [svg|png] [withliterals] : set display format\n",
       "%endpoint <url> : set SPARQL endpoint. **REQUIRED**\n",
       "%format JSON | N3 | XML | default | any | none : set requested result format\n",
       "%graph <uri> : set default graph for the queries\n",
       "%header <string> | OFF : add a persistent SPARQL header line before all queries, or delete all defined headers\n",
       "%http_header <name> [<value>] : add (or delete) an arbitrary HTTP header to all queries\n",
       "%lang <lang> [...] | default | all : language(s) preferred for labels\n",
       "%load <filename> : load a file with magic lines and process them\n",
       "%log critical | error | warning | info | debug : set logging level\n",
       "%lsmagics  : list all magics\n",
       "%method get | post : set HTTP method\n",
       "%outfile <filename> | off : save raw output to a file (use \"%d\" in name to add cell number, \"off\" to cancel saving)\n",
       "%prefix <name> [<uri>] : set (or delete) a persistent URI prefix for all queries\n",
       "%qparam <name> [<value>] : add (or delete) a persistent custom parameter to all queries\n",
       "%show <n> | all : maximum number of shown results\n"
      ]
     },
     "metadata": {},
     "output_type": "display_data"
    }
   ],
   "source": [
    "%lsmagics"
   ]
  },
  {
   "cell_type": "markdown",
   "id": "bf4e6a85",
   "metadata": {},
   "source": [
    "So let's interact with the public DBnary sparql endpoint"
   ]
  },
  {
   "cell_type": "code",
   "execution_count": 2,
   "id": "bddd21b4",
   "metadata": {},
   "outputs": [
    {
     "data": {
      "text/html": [
       "<div class=\"krn-spql\"><div class=\"magic\">Endpoint set to: http://kaiko.getalp.org/sparql</div><div class=\"magic\">Prefix set: dbnary-fra: = &lt;http://kaiko.getalp.org/dbnary/fra/&gt;</div><div class=\"magic\">Display: table</div></div>"
      ],
      "text/plain": [
       "Endpoint set to: http://kaiko.getalp.org/sparql\n",
       "Prefix set: dbnary-fra: = <http://kaiko.getalp.org/dbnary/fra/>\n",
       "Display: table\n"
      ]
     },
     "metadata": {},
     "output_type": "display_data"
    },
    {
     "data": {
      "text/html": [
       "<div class=\"krn-spql\"><table><tr class=hdr><th>subject</th>\n",
       "<th>predicate</th>\n",
       "<th>object</th></tr><tr class=odd><td class=val><a href=\"http://kaiko.getalp.org/dbnary/fra/chat_de_Gobi__nom__1\" target=\"_other\">http://kaiko.getalp.org/dbnary/fra/chat_de_Gobi__nom__1</a></td>\n",
       "<td class=val><a href=\"http://kaiko.getalp.org/dbnary#hypernym\" target=\"_other\">http://kaiko.getalp.org/dbnary#hypernym</a></td>\n",
       "<td class=val><a href=\"http://kaiko.getalp.org/dbnary/fra/chat\" target=\"_other\">http://kaiko.getalp.org/dbnary/fra/chat</a></td></tr><tr class=even><td class=val><a href=\"http://kaiko.getalp.org/dbnary/fra/chat_de_Mongolie__nom__1\" target=\"_other\">http://kaiko.getalp.org/dbnary/fra/chat_de_Mongolie__nom__1</a></td>\n",
       "<td class=val><a href=\"http://kaiko.getalp.org/dbnary#hypernym\" target=\"_other\">http://kaiko.getalp.org/dbnary#hypernym</a></td>\n",
       "<td class=val><a href=\"http://kaiko.getalp.org/dbnary/fra/chat\" target=\"_other\">http://kaiko.getalp.org/dbnary/fra/chat</a></td></tr><tr class=odd><td class=val><a href=\"http://kaiko.getalp.org/dbnary/fra/chat\" target=\"_other\">http://kaiko.getalp.org/dbnary/fra/chat</a></td>\n",
       "<td class=val><a href=\"http://kaiko.getalp.org/dbnary#describes\" target=\"_other\">http://kaiko.getalp.org/dbnary#describes</a></td>\n",
       "<td class=val><a href=\"http://kaiko.getalp.org/dbnary/fra/_fro__chat__nom__1\" target=\"_other\">http://kaiko.getalp.org/dbnary/fra/_fro__chat__nom__1</a></td></tr><tr class=even><td class=val><a href=\"http://kaiko.getalp.org/dbnary/fra/__ws_1_jeu_du_loup__nom__1\" target=\"_other\">http://kaiko.getalp.org/dbnary/fra/__ws_1_jeu_du_loup__nom__1</a></td>\n",
       "<td class=val><a href=\"http://kaiko.getalp.org/dbnary#synonym\" target=\"_other\">http://kaiko.getalp.org/dbnary#synonym</a></td>\n",
       "<td class=val><a href=\"http://kaiko.getalp.org/dbnary/fra/chat\" target=\"_other\">http://kaiko.getalp.org/dbnary/fra/chat</a></td></tr><tr class=odd><td class=val><a href=\"http://kaiko.getalp.org/dbnary/fra/__ws_1_animal_de_compagnie__nom__1\" target=\"_other\">http://kaiko.getalp.org/dbnary/fra/__ws_1_animal_de_compagnie__nom__1</a></td>\n",
       "<td class=val><a href=\"http://kaiko.getalp.org/dbnary#hyponym\" target=\"_other\">http://kaiko.getalp.org/dbnary#hyponym</a></td>\n",
       "<td class=val><a href=\"http://kaiko.getalp.org/dbnary/fra/chat\" target=\"_other\">http://kaiko.getalp.org/dbnary/fra/chat</a></td></tr><tr class=even><td class=val><a href=\"http://kaiko.getalp.org/dbnary/fra/chat\" target=\"_other\">http://kaiko.getalp.org/dbnary/fra/chat</a></td>\n",
       "<td class=val><a href=\"http://kaiko.getalp.org/dbnary#describes\" target=\"_other\">http://kaiko.getalp.org/dbnary#describes</a></td>\n",
       "<td class=val><a href=\"http://kaiko.getalp.org/dbnary/fra/_fr-gallo__chat__nom__1\" target=\"_other\">http://kaiko.getalp.org/dbnary/fra/_fr-gallo__chat__nom__1</a></td></tr><tr class=odd><td class=val><a href=\"http://kaiko.getalp.org/dbnary/fra/__ws_1_féliformes__nom__1\" target=\"_other\">http://kaiko.getalp.org/dbnary/fra/__ws_1_féliformes__nom__1</a></td>\n",
       "<td class=val><a href=\"http://kaiko.getalp.org/dbnary#hyponym\" target=\"_other\">http://kaiko.getalp.org/dbnary#hyponym</a></td>\n",
       "<td class=val><a href=\"http://kaiko.getalp.org/dbnary/fra/chat\" target=\"_other\">http://kaiko.getalp.org/dbnary/fra/chat</a></td></tr><tr class=even><td class=val><a href=\"http://kaiko.getalp.org/dbnary/fra/chat\" target=\"_other\">http://kaiko.getalp.org/dbnary/fra/chat</a></td>\n",
       "<td class=val><a href=\"http://kaiko.getalp.org/dbnary#describes\" target=\"_other\">http://kaiko.getalp.org/dbnary#describes</a></td>\n",
       "<td class=val><a href=\"http://kaiko.getalp.org/dbnary/fra/chat__nom__1\" target=\"_other\">http://kaiko.getalp.org/dbnary/fra/chat__nom__1</a></td></tr><tr class=odd><td class=val><a href=\"http://kaiko.getalp.org/dbnary/fra/chat\" target=\"_other\">http://kaiko.getalp.org/dbnary/fra/chat</a></td>\n",
       "<td class=val><a href=\"http://kaiko.getalp.org/dbnary#describes\" target=\"_other\">http://kaiko.getalp.org/dbnary#describes</a></td>\n",
       "<td class=val><a href=\"http://kaiko.getalp.org/dbnary/fra/_eng__chat__nom__1\" target=\"_other\">http://kaiko.getalp.org/dbnary/fra/_eng__chat__nom__1</a></td></tr><tr class=even><td class=val><a href=\"http://kaiko.getalp.org/dbnary/fra/chat\" target=\"_other\">http://kaiko.getalp.org/dbnary/fra/chat</a></td>\n",
       "<td class=val><a href=\"http://kaiko.getalp.org/dbnary#describes\" target=\"_other\">http://kaiko.getalp.org/dbnary#describes</a></td>\n",
       "<td class=val><a href=\"http://kaiko.getalp.org/dbnary/fra/_eng__chat__verb__1\" target=\"_other\">http://kaiko.getalp.org/dbnary/fra/_eng__chat__verb__1</a></td></tr><tr class=odd><td class=val><a href=\"http://kaiko.getalp.org/dbnary/fra/chat\" target=\"_other\">http://kaiko.getalp.org/dbnary/fra/chat</a></td>\n",
       "<td class=val><a href=\"http://kaiko.getalp.org/dbnary#describes\" target=\"_other\">http://kaiko.getalp.org/dbnary#describes</a></td>\n",
       "<td class=val><a href=\"http://kaiko.getalp.org/dbnary/fra/_hat__chat__nom__1\" target=\"_other\">http://kaiko.getalp.org/dbnary/fra/_hat__chat__nom__1</a></td></tr><tr class=even><td class=val><a href=\"http://kaiko.getalp.org/dbnary/fra/chat\" target=\"_other\">http://kaiko.getalp.org/dbnary/fra/chat</a></td>\n",
       "<td class=val><a href=\"http://kaiko.getalp.org/dbnary#describes\" target=\"_other\">http://kaiko.getalp.org/dbnary#describes</a></td>\n",
       "<td class=val><a href=\"http://kaiko.getalp.org/dbnary/fra/_gcr__chat__nom__1\" target=\"_other\">http://kaiko.getalp.org/dbnary/fra/_gcr__chat__nom__1</a></td></tr><tr class=odd><td class=val><a href=\"http://kaiko.getalp.org/dbnary/fra/chat\" target=\"_other\">http://kaiko.getalp.org/dbnary/fra/chat</a></td>\n",
       "<td class=val><a href=\"http://kaiko.getalp.org/dbnary#describes\" target=\"_other\">http://kaiko.getalp.org/dbnary#describes</a></td>\n",
       "<td class=val><a href=\"http://kaiko.getalp.org/dbnary/fra/chat__nom__2\" target=\"_other\">http://kaiko.getalp.org/dbnary/fra/chat__nom__2</a></td></tr><tr class=even><td class=val><a href=\"http://kaiko.getalp.org/dbnary/fra/__ws_1__mul-conv__Felis__nom_scientifique__1\" target=\"_other\">http://kaiko.getalp.org/dbnary/fra/__ws_1__mul-conv__Felis__nom_scientifique__1</a></td>\n",
       "<td class=val><a href=\"http://kaiko.getalp.org/dbnary#hyponym\" target=\"_other\">http://kaiko.getalp.org/dbnary#hyponym</a></td>\n",
       "<td class=val><a href=\"http://kaiko.getalp.org/dbnary/fra/chat\" target=\"_other\">http://kaiko.getalp.org/dbnary/fra/chat</a></td></tr><tr class=odd><td class=val><a href=\"http://kaiko.getalp.org/dbnary/fra/chat_sauvage__nom__1\" target=\"_other\">http://kaiko.getalp.org/dbnary/fra/chat_sauvage__nom__1</a></td>\n",
       "<td class=val><a href=\"http://kaiko.getalp.org/dbnary#hypernym\" target=\"_other\">http://kaiko.getalp.org/dbnary#hypernym</a></td>\n",
       "<td class=val><a href=\"http://kaiko.getalp.org/dbnary/fra/chat\" target=\"_other\">http://kaiko.getalp.org/dbnary/fra/chat</a></td></tr><tr class=even><td class=val><a href=\"http://kaiko.getalp.org/dbnary/fra/__ws_1_clavardage__nom__1\" target=\"_other\">http://kaiko.getalp.org/dbnary/fra/__ws_1_clavardage__nom__1</a></td>\n",
       "<td class=val><a href=\"http://kaiko.getalp.org/dbnary#synonym\" target=\"_other\">http://kaiko.getalp.org/dbnary#synonym</a></td>\n",
       "<td class=val><a href=\"http://kaiko.getalp.org/dbnary/fra/chat\" target=\"_other\">http://kaiko.getalp.org/dbnary/fra/chat</a></td></tr><tr class=odd><td class=val><a href=\"http://kaiko.getalp.org/dbnary/fra/chat\" target=\"_other\">http://kaiko.getalp.org/dbnary/fra/chat</a></td>\n",
       "<td class=val><a href=\"http://www.w3.org/1999/02/22-rdf-syntax-ns#type\" target=\"_other\">http://www.w3.org/1999/02/22-rdf-syntax-ns#type</a></td>\n",
       "<td class=val><a href=\"http://kaiko.getalp.org/dbnary#Page\" target=\"_other\">http://kaiko.getalp.org/dbnary#Page</a></td></tr><tr class=even><td class=val><a href=\"http://kaiko.getalp.org/dbnary/fra/__ws_1_félidé__nom__1\" target=\"_other\">http://kaiko.getalp.org/dbnary/fra/__ws_1_félidé__nom__1</a></td>\n",
       "<td class=val><a href=\"http://kaiko.getalp.org/dbnary#meronym\" target=\"_other\">http://kaiko.getalp.org/dbnary#meronym</a></td>\n",
       "<td class=val><a href=\"http://kaiko.getalp.org/dbnary/fra/chat\" target=\"_other\">http://kaiko.getalp.org/dbnary/fra/chat</a></td></tr><tr class=odd><td class=val><a href=\"http://kaiko.getalp.org/dbnary/fra/chat_des_déserts_de_Chine__nom__1\" target=\"_other\">http://kaiko.getalp.org/dbnary/fra/chat_des_déserts_de_Chine__nom__1</a></td>\n",
       "<td class=val><a href=\"http://kaiko.getalp.org/dbnary#hypernym\" target=\"_other\">http://kaiko.getalp.org/dbnary#hypernym</a></td>\n",
       "<td class=val><a href=\"http://kaiko.getalp.org/dbnary/fra/chat\" target=\"_other\">http://kaiko.getalp.org/dbnary/fra/chat</a></td></tr><tr class=even><td class=val><a href=\"http://kaiko.getalp.org/dbnary/fra/__ws_1_chat_de_jungle__nom__1\" target=\"_other\">http://kaiko.getalp.org/dbnary/fra/__ws_1_chat_de_jungle__nom__1</a></td>\n",
       "<td class=val><a href=\"http://kaiko.getalp.org/dbnary#hypernym\" target=\"_other\">http://kaiko.getalp.org/dbnary#hypernym</a></td>\n",
       "<td class=val><a href=\"http://kaiko.getalp.org/dbnary/fra/chat\" target=\"_other\">http://kaiko.getalp.org/dbnary/fra/chat</a></td></tr></table><div class=\"tinfo\">Shown: 20, Total rows: 30</div></div>"
      ]
     },
     "metadata": {},
     "output_type": "display_data"
    }
   ],
   "source": [
    "%endpoint http://kaiko.getalp.org/sparql\n",
    "%prefix dbnary-fra: <http://kaiko.getalp.org/dbnary/fra/>\n",
    "%display table\n",
    "\n",
    "DESCRIBE <http://kaiko.getalp.org/dbnary/fra/chat>"
   ]
  },
  {
   "cell_type": "markdown",
   "id": "308ebf7f",
   "metadata": {},
   "source": [
    "# Access to the DBnary metadata\n",
    "\n",
    "DBnary is structured as a set of Lexica that are described using ontolex's lime vocabulary :"
   ]
  },
  {
   "cell_type": "code",
   "execution_count": 3,
   "id": "e07a76e7",
   "metadata": {},
   "outputs": [
    {
     "data": {
      "text/html": [
       "<div class=\"krn-spql\"><table><tr class=hdr><th>lexicon</th></tr><tr class=odd><td class=val><a href=\"http://kaiko.getalp.org/dbnary/ell/___el_dbnary_dataset\" target=\"_other\">http://kaiko.getalp.org/dbnary/ell/___el_dbnary_dataset</a></td></tr><tr class=even><td class=val><a href=\"http://kaiko.getalp.org/dbnary/fin/___fi_dbnary_dataset\" target=\"_other\">http://kaiko.getalp.org/dbnary/fin/___fi_dbnary_dataset</a></td></tr><tr class=odd><td class=val><a href=\"http://kaiko.getalp.org/dbnary/bul/___bg_dbnary_dataset\" target=\"_other\">http://kaiko.getalp.org/dbnary/bul/___bg_dbnary_dataset</a></td></tr><tr class=even><td class=val><a href=\"http://kaiko.getalp.org/dbnary/deu/___de_dbnary_dataset\" target=\"_other\">http://kaiko.getalp.org/dbnary/deu/___de_dbnary_dataset</a></td></tr><tr class=odd><td class=val><a href=\"http://kaiko.getalp.org/dbnary/eng/___en_dbnary_dataset\" target=\"_other\">http://kaiko.getalp.org/dbnary/eng/___en_dbnary_dataset</a></td></tr><tr class=even><td class=val><a href=\"http://kaiko.getalp.org/dbnary/fra/___fr_dbnary_dataset\" target=\"_other\">http://kaiko.getalp.org/dbnary/fra/___fr_dbnary_dataset</a></td></tr><tr class=odd><td class=val><a href=\"http://kaiko.getalp.org/dbnary/ita/___it_dbnary_dataset\" target=\"_other\">http://kaiko.getalp.org/dbnary/ita/___it_dbnary_dataset</a></td></tr><tr class=even><td class=val><a href=\"http://kaiko.getalp.org/dbnary/spa/___es_dbnary_dataset\" target=\"_other\">http://kaiko.getalp.org/dbnary/spa/___es_dbnary_dataset</a></td></tr><tr class=odd><td class=val><a href=\"http://kaiko.getalp.org/dbnary/lit/___lt_dbnary_dataset\" target=\"_other\">http://kaiko.getalp.org/dbnary/lit/___lt_dbnary_dataset</a></td></tr><tr class=even><td class=val><a href=\"http://kaiko.getalp.org/dbnary/ind/___id_dbnary_dataset\" target=\"_other\">http://kaiko.getalp.org/dbnary/ind/___id_dbnary_dataset</a></td></tr><tr class=odd><td class=val><a href=\"http://kaiko.getalp.org/dbnary/kur/___ku_dbnary_dataset\" target=\"_other\">http://kaiko.getalp.org/dbnary/kur/___ku_dbnary_dataset</a></td></tr><tr class=even><td class=val><a href=\"http://kaiko.getalp.org/dbnary/jpn/___ja_dbnary_dataset\" target=\"_other\">http://kaiko.getalp.org/dbnary/jpn/___ja_dbnary_dataset</a></td></tr><tr class=odd><td class=val><a href=\"http://kaiko.getalp.org/dbnary/rus/___ru_dbnary_dataset\" target=\"_other\">http://kaiko.getalp.org/dbnary/rus/___ru_dbnary_dataset</a></td></tr><tr class=even><td class=val><a href=\"http://kaiko.getalp.org/dbnary/mlg/___mg_dbnary_dataset\" target=\"_other\">http://kaiko.getalp.org/dbnary/mlg/___mg_dbnary_dataset</a></td></tr><tr class=odd><td class=val><a href=\"http://kaiko.getalp.org/dbnary/lat/___la_dbnary_dataset\" target=\"_other\">http://kaiko.getalp.org/dbnary/lat/___la_dbnary_dataset</a></td></tr><tr class=even><td class=val><a href=\"http://kaiko.getalp.org/dbnary/hbs/___sh_dbnary_dataset\" target=\"_other\">http://kaiko.getalp.org/dbnary/hbs/___sh_dbnary_dataset</a></td></tr><tr class=odd><td class=val><a href=\"http://kaiko.getalp.org/dbnary/tur/___tr_dbnary_dataset\" target=\"_other\">http://kaiko.getalp.org/dbnary/tur/___tr_dbnary_dataset</a></td></tr><tr class=even><td class=val><a href=\"http://kaiko.getalp.org/dbnary/nld/___nl_dbnary_dataset\" target=\"_other\">http://kaiko.getalp.org/dbnary/nld/___nl_dbnary_dataset</a></td></tr><tr class=odd><td class=val><a href=\"http://kaiko.getalp.org/dbnary/nor/___no_dbnary_dataset\" target=\"_other\">http://kaiko.getalp.org/dbnary/nor/___no_dbnary_dataset</a></td></tr><tr class=even><td class=val><a href=\"http://kaiko.getalp.org/dbnary/pol/___pl_dbnary_dataset\" target=\"_other\">http://kaiko.getalp.org/dbnary/pol/___pl_dbnary_dataset</a></td></tr></table><div class=\"tinfo\">Total: 22, Shown: 20</div></div>"
      ]
     },
     "metadata": {},
     "output_type": "display_data"
    }
   ],
   "source": [
    "select distinct ?lexicon where {?lexicon a lime:Lexicon}"
   ]
  },
  {
   "cell_type": "markdown",
   "id": "c036ee96",
   "metadata": {},
   "source": [
    "A more detailled description of the French Lexicon may be accessed using : "
   ]
  },
  {
   "cell_type": "code",
   "execution_count": 4,
   "id": "2cb2b9a3",
   "metadata": {},
   "outputs": [
    {
     "data": {
      "text/html": [
       "<div class=\"krn-spql\"><div class=\"magic\">Display: table</div></div>"
      ],
      "text/plain": [
       "Display: table\n"
      ]
     },
     "metadata": {},
     "output_type": "display_data"
    },
    {
     "data": {
      "text/html": [
       "<div class=\"krn-spql\"><table><tr class=hdr><th>subject</th>\n",
       "<th>predicate</th>\n",
       "<th>object</th></tr><tr class=odd><td class=val><a href=\"http://kaiko.getalp.org/dbnary/fra/___fr_dbnary_dataset\" target=\"_other\">http://kaiko.getalp.org/dbnary/fra/___fr_dbnary_dataset</a></td>\n",
       "<td class=val><a href=\"http://www.w3.org/ns/lemon/lime#entry\" target=\"_other\">http://www.w3.org/ns/lemon/lime#entry</a></td>\n",
       "<td class=val><a href=\"http://kaiko.getalp.org/dbnary/fra/frit__adj__1\" target=\"_other\">http://kaiko.getalp.org/dbnary/fra/frit__adj__1</a></td></tr><tr class=even><td class=val><a href=\"http://kaiko.getalp.org/dbnary/fra/___fr_dbnary_dataset\" target=\"_other\">http://kaiko.getalp.org/dbnary/fra/___fr_dbnary_dataset</a></td>\n",
       "<td class=val><a href=\"http://www.w3.org/ns/lemon/lime#entry\" target=\"_other\">http://www.w3.org/ns/lemon/lime#entry</a></td>\n",
       "<td class=val><a href=\"http://kaiko.getalp.org/dbnary/fra/jaille__nom__1\" target=\"_other\">http://kaiko.getalp.org/dbnary/fra/jaille__nom__1</a></td></tr><tr class=odd><td class=val><a href=\"http://kaiko.getalp.org/dbnary/fra/___fr_dbnary_dataset\" target=\"_other\">http://kaiko.getalp.org/dbnary/fra/___fr_dbnary_dataset</a></td>\n",
       "<td class=val><a href=\"http://www.w3.org/ns/lemon/lime#entry\" target=\"_other\">http://www.w3.org/ns/lemon/lime#entry</a></td>\n",
       "<td class=val><a href=\"http://kaiko.getalp.org/dbnary/fra/enceinte_blindée__nom__1\" target=\"_other\">http://kaiko.getalp.org/dbnary/fra/enceinte_blindée__nom__1</a></td></tr><tr class=even><td class=val><a href=\"http://kaiko.getalp.org/dbnary/fra/___fr_dbnary_dataset\" target=\"_other\">http://kaiko.getalp.org/dbnary/fra/___fr_dbnary_dataset</a></td>\n",
       "<td class=val><a href=\"http://www.w3.org/ns/lemon/lime#entry\" target=\"_other\">http://www.w3.org/ns/lemon/lime#entry</a></td>\n",
       "<td class=val><a href=\"http://kaiko.getalp.org/dbnary/fra/dévoûter__verb__1\" target=\"_other\">http://kaiko.getalp.org/dbnary/fra/dévoûter__verb__1</a></td></tr><tr class=odd><td class=val><a href=\"http://kaiko.getalp.org/dbnary/fra/___fr_dbnary_dataset\" target=\"_other\">http://kaiko.getalp.org/dbnary/fra/___fr_dbnary_dataset</a></td>\n",
       "<td class=val><a href=\"http://www.w3.org/ns/lemon/lime#entry\" target=\"_other\">http://www.w3.org/ns/lemon/lime#entry</a></td>\n",
       "<td class=val><a href=\"http://kaiko.getalp.org/dbnary/fra/Saint-Pabusien__nom__1\" target=\"_other\">http://kaiko.getalp.org/dbnary/fra/Saint-Pabusien__nom__1</a></td></tr><tr class=even><td class=val><a href=\"http://kaiko.getalp.org/dbnary/fra/___fr_dbnary_dataset\" target=\"_other\">http://kaiko.getalp.org/dbnary/fra/___fr_dbnary_dataset</a></td>\n",
       "<td class=val><a href=\"http://www.w3.org/ns/lemon/lime#entry\" target=\"_other\">http://www.w3.org/ns/lemon/lime#entry</a></td>\n",
       "<td class=val><a href=\"http://kaiko.getalp.org/dbnary/fra/Renaix__nompr__1\" target=\"_other\">http://kaiko.getalp.org/dbnary/fra/Renaix__nompr__1</a></td></tr><tr class=odd><td class=val><a href=\"http://kaiko.getalp.org/dbnary/fra/___fr_dbnary_dataset\" target=\"_other\">http://kaiko.getalp.org/dbnary/fra/___fr_dbnary_dataset</a></td>\n",
       "<td class=val><a href=\"http://www.w3.org/ns/lemon/lime#entry\" target=\"_other\">http://www.w3.org/ns/lemon/lime#entry</a></td>\n",
       "<td class=val><a href=\"http://kaiko.getalp.org/dbnary/fra/Woodhall_Spa__nompr__1\" target=\"_other\">http://kaiko.getalp.org/dbnary/fra/Woodhall_Spa__nompr__1</a></td></tr><tr class=even><td class=val><a href=\"http://kaiko.getalp.org/dbnary/fra/___fr_dbnary_dataset\" target=\"_other\">http://kaiko.getalp.org/dbnary/fra/___fr_dbnary_dataset</a></td>\n",
       "<td class=val><a href=\"http://www.w3.org/ns/lemon/lime#entry\" target=\"_other\">http://www.w3.org/ns/lemon/lime#entry</a></td>\n",
       "<td class=val><a href=\"http://kaiko.getalp.org/dbnary/fra/Ruyaulcourt__nompr__1\" target=\"_other\">http://kaiko.getalp.org/dbnary/fra/Ruyaulcourt__nompr__1</a></td></tr><tr class=odd><td class=val><a href=\"http://kaiko.getalp.org/dbnary/fra/___fr_dbnary_dataset\" target=\"_other\">http://kaiko.getalp.org/dbnary/fra/___fr_dbnary_dataset</a></td>\n",
       "<td class=val><a href=\"http://www.w3.org/ns/lemon/lime#entry\" target=\"_other\">http://www.w3.org/ns/lemon/lime#entry</a></td>\n",
       "<td class=val><a href=\"http://kaiko.getalp.org/dbnary/fra/radoucir__verb__1\" target=\"_other\">http://kaiko.getalp.org/dbnary/fra/radoucir__verb__1</a></td></tr><tr class=even><td class=val><a href=\"http://kaiko.getalp.org/dbnary/fra/___fr_dbnary_dataset\" target=\"_other\">http://kaiko.getalp.org/dbnary/fra/___fr_dbnary_dataset</a></td>\n",
       "<td class=val><a href=\"http://www.w3.org/ns/lemon/lime#entry\" target=\"_other\">http://www.w3.org/ns/lemon/lime#entry</a></td>\n",
       "<td class=val><a href=\"http://kaiko.getalp.org/dbnary/fra/Memel__nompr__1\" target=\"_other\">http://kaiko.getalp.org/dbnary/fra/Memel__nompr__1</a></td></tr><tr class=odd><td class=val><a href=\"http://kaiko.getalp.org/dbnary/fra/___fr_dbnary_dataset\" target=\"_other\">http://kaiko.getalp.org/dbnary/fra/___fr_dbnary_dataset</a></td>\n",
       "<td class=val><a href=\"http://www.w3.org/ns/lemon/lime#entry\" target=\"_other\">http://www.w3.org/ns/lemon/lime#entry</a></td>\n",
       "<td class=val><a href=\"http://kaiko.getalp.org/dbnary/fra/rebennien__adj__1\" target=\"_other\">http://kaiko.getalp.org/dbnary/fra/rebennien__adj__1</a></td></tr><tr class=even><td class=val><a href=\"http://kaiko.getalp.org/dbnary/fra/___fr_dbnary_dataset\" target=\"_other\">http://kaiko.getalp.org/dbnary/fra/___fr_dbnary_dataset</a></td>\n",
       "<td class=val><a href=\"http://www.w3.org/ns/lemon/lime#entry\" target=\"_other\">http://www.w3.org/ns/lemon/lime#entry</a></td>\n",
       "<td class=val><a href=\"http://kaiko.getalp.org/dbnary/fra/gadget__nom__1\" target=\"_other\">http://kaiko.getalp.org/dbnary/fra/gadget__nom__1</a></td></tr><tr class=odd><td class=val><a href=\"http://kaiko.getalp.org/dbnary/fra/___fr_dbnary_dataset\" target=\"_other\">http://kaiko.getalp.org/dbnary/fra/___fr_dbnary_dataset</a></td>\n",
       "<td class=val><a href=\"http://www.w3.org/ns/lemon/lime#entry\" target=\"_other\">http://www.w3.org/ns/lemon/lime#entry</a></td>\n",
       "<td class=val><a href=\"http://kaiko.getalp.org/dbnary/fra/pyromancien__nom__1\" target=\"_other\">http://kaiko.getalp.org/dbnary/fra/pyromancien__nom__1</a></td></tr><tr class=even><td class=val><a href=\"http://kaiko.getalp.org/dbnary/fra/___fr_dbnary_dataset\" target=\"_other\">http://kaiko.getalp.org/dbnary/fra/___fr_dbnary_dataset</a></td>\n",
       "<td class=val><a href=\"http://www.w3.org/ns/lemon/lime#entry\" target=\"_other\">http://www.w3.org/ns/lemon/lime#entry</a></td>\n",
       "<td class=val><a href=\"http://kaiko.getalp.org/dbnary/fra/Caradocéen__nom__1\" target=\"_other\">http://kaiko.getalp.org/dbnary/fra/Caradocéen__nom__1</a></td></tr><tr class=odd><td class=val><a href=\"http://kaiko.getalp.org/dbnary/fra/___fr_dbnary_dataset\" target=\"_other\">http://kaiko.getalp.org/dbnary/fra/___fr_dbnary_dataset</a></td>\n",
       "<td class=val><a href=\"http://www.w3.org/ns/lemon/lime#entry\" target=\"_other\">http://www.w3.org/ns/lemon/lime#entry</a></td>\n",
       "<td class=val><a href=\"http://kaiko.getalp.org/dbnary/fra/émerveillable__adj__1\" target=\"_other\">http://kaiko.getalp.org/dbnary/fra/émerveillable__adj__1</a></td></tr><tr class=even><td class=val><a href=\"http://kaiko.getalp.org/dbnary/fra/___fr_dbnary_dataset\" target=\"_other\">http://kaiko.getalp.org/dbnary/fra/___fr_dbnary_dataset</a></td>\n",
       "<td class=val><a href=\"http://www.w3.org/ns/lemon/lime#entry\" target=\"_other\">http://www.w3.org/ns/lemon/lime#entry</a></td>\n",
       "<td class=val><a href=\"http://kaiko.getalp.org/dbnary/fra/désoxyribose__nom__1\" target=\"_other\">http://kaiko.getalp.org/dbnary/fra/désoxyribose__nom__1</a></td></tr><tr class=odd><td class=val><a href=\"http://kaiko.getalp.org/dbnary/fra/___fr_dbnary_dataset\" target=\"_other\">http://kaiko.getalp.org/dbnary/fra/___fr_dbnary_dataset</a></td>\n",
       "<td class=val><a href=\"http://www.w3.org/ns/lemon/lime#entry\" target=\"_other\">http://www.w3.org/ns/lemon/lime#entry</a></td>\n",
       "<td class=val><a href=\"http://kaiko.getalp.org/dbnary/fra/squirrhosarque__nom__1\" target=\"_other\">http://kaiko.getalp.org/dbnary/fra/squirrhosarque__nom__1</a></td></tr><tr class=even><td class=val><a href=\"http://kaiko.getalp.org/dbnary/fra/___fr_dbnary_dataset\" target=\"_other\">http://kaiko.getalp.org/dbnary/fra/___fr_dbnary_dataset</a></td>\n",
       "<td class=val><a href=\"http://www.w3.org/ns/lemon/lime#entry\" target=\"_other\">http://www.w3.org/ns/lemon/lime#entry</a></td>\n",
       "<td class=val><a href=\"http://kaiko.getalp.org/dbnary/fra/Teilhède__nompr__1\" target=\"_other\">http://kaiko.getalp.org/dbnary/fra/Teilhède__nompr__1</a></td></tr><tr class=odd><td class=val><a href=\"http://kaiko.getalp.org/dbnary/fra/___fr_dbnary_dataset\" target=\"_other\">http://kaiko.getalp.org/dbnary/fra/___fr_dbnary_dataset</a></td>\n",
       "<td class=val><a href=\"http://www.w3.org/ns/lemon/lime#entry\" target=\"_other\">http://www.w3.org/ns/lemon/lime#entry</a></td>\n",
       "<td class=val><a href=\"http://kaiko.getalp.org/dbnary/fra/Salses__nompr__1\" target=\"_other\">http://kaiko.getalp.org/dbnary/fra/Salses__nompr__1</a></td></tr><tr class=even><td class=val><a href=\"http://kaiko.getalp.org/dbnary/fra/___fr_dbnary_dataset\" target=\"_other\">http://kaiko.getalp.org/dbnary/fra/___fr_dbnary_dataset</a></td>\n",
       "<td class=val><a href=\"http://www.w3.org/ns/lemon/lime#entry\" target=\"_other\">http://www.w3.org/ns/lemon/lime#entry</a></td>\n",
       "<td class=val><a href=\"http://kaiko.getalp.org/dbnary/fra/adéquiste__adj__1\" target=\"_other\">http://kaiko.getalp.org/dbnary/fra/adéquiste__adj__1</a></td></tr></table><div class=\"tinfo\">Shown: 20, Total rows: 482215</div></div>"
      ]
     },
     "metadata": {},
     "output_type": "display_data"
    }
   ],
   "source": [
    "%display table\n",
    "DESCRIBE <http://kaiko.getalp.org/dbnary/fra/___fr_dbnary_dataset>"
   ]
  },
  {
   "cell_type": "markdown",
   "id": "27c29d7f-c42e-45b6-9d25-1a7351bd49d1",
   "metadata": {},
   "source": [
    "There are 482k statements to describe the lexicon (and the most frequent satements are the links from the lexicon to the lexical entries). \n",
    "If we want to get the relevant metadata, we should query all statement but the ones with lime:entry property.\n",
    "This is not possible using *DESCRIBE* keyword. So, lets extract the triples and filter out the entries:"
   ]
  },
  {
   "cell_type": "code",
   "execution_count": 7,
   "id": "a34218af-c959-4e4a-af38-8c84d868f531",
   "metadata": {},
   "outputs": [
    {
     "data": {
      "text/html": [
       "<div class=\"krn-spql\"><div class=\"magic\">Display: table</div></div>"
      ],
      "text/plain": [
       "Display: table\n"
      ]
     },
     "metadata": {},
     "output_type": "display_data"
    },
    {
     "data": {
      "text/html": [
       "<div class=\"krn-spql\"><table><tr class=hdr><th>subject</th>\n",
       "<th>predicate</th>\n",
       "<th>object</th></tr><tr class=odd><td class=val><a href=\"http://kaiko.getalp.org/dbnary/fra/___fr_dbnary_dataset\" target=\"_other\">http://kaiko.getalp.org/dbnary/fra/___fr_dbnary_dataset</a></td>\n",
       "<td class=val><a href=\"http://xmlns.com/foaf/0.1/homepage\" target=\"_other\">http://xmlns.com/foaf/0.1/homepage</a></td>\n",
       "<td class=val>http://kaiko.getalp.org/about-dbnary</td></tr><tr class=even><td class=val><a href=\"http://kaiko.getalp.org/dbnary/fra/___fr_dbnary_dataset\" target=\"_other\">http://kaiko.getalp.org/dbnary/fra/___fr_dbnary_dataset</a></td>\n",
       "<td class=val><a href=\"http://purl.org/dc/terms/created\" target=\"_other\">http://purl.org/dc/terms/created</a></td>\n",
       "<td class=val>2022-05-21T01:27:57.586000+00:00</td></tr><tr class=odd><td class=val><a href=\"http://kaiko.getalp.org/dbnary/fra/___fr_dbnary_dataset\" target=\"_other\">http://kaiko.getalp.org/dbnary/fra/___fr_dbnary_dataset</a></td>\n",
       "<td class=val><a href=\"http://www.w3.org/ns/lemon/lime#linguisticCatalog\" target=\"_other\">http://www.w3.org/ns/lemon/lime#linguisticCatalog</a></td>\n",
       "<td class=val>http://www.lexinfo.net/ontology/2.0/lexinfo#</td></tr><tr class=even><td class=val><a href=\"http://kaiko.getalp.org/dbnary/fra/___fr_dbnary_dataset\" target=\"_other\">http://kaiko.getalp.org/dbnary/fra/___fr_dbnary_dataset</a></td>\n",
       "<td class=val><a href=\"http://purl.org/dc/terms/description\" target=\"_other\">http://purl.org/dc/terms/description</a></td>\n",
       "<td class=val>This lexicon is extracted from the original wiktionary data that can be found in http://fr.wiktionary.org/ by the DBnary Extractor.</td></tr><tr class=odd><td class=val><a href=\"http://kaiko.getalp.org/dbnary/fra/___fr_dbnary_dataset\" target=\"_other\">http://kaiko.getalp.org/dbnary/fra/___fr_dbnary_dataset</a></td>\n",
       "<td class=val><a href=\"http://www.w3.org/ns/lemon/lime#lexicalEntries\" target=\"_other\">http://www.w3.org/ns/lemon/lime#lexicalEntries</a></td>\n",
       "<td class=val>482197</td></tr><tr class=even><td class=val><a href=\"http://kaiko.getalp.org/dbnary/fra/___fr_dbnary_dataset\" target=\"_other\">http://kaiko.getalp.org/dbnary/fra/___fr_dbnary_dataset</a></td>\n",
       "<td class=val><a href=\"http://www.w3.org/ns/lemon/lime#linguisticCatalog\" target=\"_other\">http://www.w3.org/ns/lemon/lime#linguisticCatalog</a></td>\n",
       "<td class=val>http://purl.org/olia/olia.owl#</td></tr><tr class=odd><td class=val><a href=\"http://kaiko.getalp.org/dbnary/fra/___fr_dbnary_dataset\" target=\"_other\">http://kaiko.getalp.org/dbnary/fra/___fr_dbnary_dataset</a></td>\n",
       "<td class=val><a href=\"http://purl.org/dc/terms/description\" target=\"_other\">http://purl.org/dc/terms/description</a></td>\n",
       "<td class=val>Cet ensemble de données est extrait du wiktionnaire original disponible à http://fr.wiktionary.org/ par le programme d'extraction de DBnary.</td></tr><tr class=even><td class=val><a href=\"http://kaiko.getalp.org/dbnary/fra/___fr_dbnary_dataset\" target=\"_other\">http://kaiko.getalp.org/dbnary/fra/___fr_dbnary_dataset</a></td>\n",
       "<td class=val><a href=\"http://purl.org/dc/terms/modified\" target=\"_other\">http://purl.org/dc/terms/modified</a></td>\n",
       "<td class=val>2022-06-19</td></tr><tr class=odd><td class=val><a href=\"http://kaiko.getalp.org/dbnary/fra/___fr_dbnary_dataset\" target=\"_other\">http://kaiko.getalp.org/dbnary/fra/___fr_dbnary_dataset</a></td>\n",
       "<td class=val><a href=\"http://purl.org/dc/terms/creator\" target=\"_other\">http://purl.org/dc/terms/creator</a></td>\n",
       "<td class=val><a href=\"http://serasset.bitbucket.io/\" target=\"_other\">http://serasset.bitbucket.io/</a></td></tr><tr class=even><td class=val><a href=\"http://kaiko.getalp.org/dbnary/fra/___fr_dbnary_dataset\" target=\"_other\">http://kaiko.getalp.org/dbnary/fra/___fr_dbnary_dataset</a></td>\n",
       "<td class=val><a href=\"http://purl.org/dc/terms/title\" target=\"_other\">http://purl.org/dc/terms/title</a></td>\n",
       "<td class=val>DBnary français</td></tr><tr class=odd><td class=val><a href=\"http://kaiko.getalp.org/dbnary/fra/___fr_dbnary_dataset\" target=\"_other\">http://kaiko.getalp.org/dbnary/fra/___fr_dbnary_dataset</a></td>\n",
       "<td class=val><a href=\"http://www.w3.org/1999/02/22-rdf-syntax-ns#type\" target=\"_other\">http://www.w3.org/1999/02/22-rdf-syntax-ns#type</a></td>\n",
       "<td class=val><a href=\"http://www.w3.org/ns/lemon/lime#Lexicon\" target=\"_other\">http://www.w3.org/ns/lemon/lime#Lexicon</a></td></tr><tr class=even><td class=val><a href=\"http://kaiko.getalp.org/dbnary/fra/___fr_dbnary_dataset\" target=\"_other\">http://kaiko.getalp.org/dbnary/fra/___fr_dbnary_dataset</a></td>\n",
       "<td class=val><a href=\"http://purl.org/dc/terms/source\" target=\"_other\">http://purl.org/dc/terms/source</a></td>\n",
       "<td class=val>http://fr.wiktionary.org/</td></tr><tr class=odd><td class=val><a href=\"http://kaiko.getalp.org/dbnary/fra/___fr_dbnary_dataset\" target=\"_other\">http://kaiko.getalp.org/dbnary/fra/___fr_dbnary_dataset</a></td>\n",
       "<td class=val><a href=\"http://purl.org/dc/terms/language\" target=\"_other\">http://purl.org/dc/terms/language</a></td>\n",
       "<td class=val><a href=\"http://lexvo.org/id/iso639-3/fra\" target=\"_other\">http://lexvo.org/id/iso639-3/fra</a></td></tr><tr class=even><td class=val><a href=\"http://kaiko.getalp.org/dbnary/fra/___fr_dbnary_dataset\" target=\"_other\">http://kaiko.getalp.org/dbnary/fra/___fr_dbnary_dataset</a></td>\n",
       "<td class=val><a href=\"http://purl.org/dc/terms/title\" target=\"_other\">http://purl.org/dc/terms/title</a></td>\n",
       "<td class=val>French DBnary Dataset</td></tr><tr class=odd><td class=val><a href=\"http://kaiko.getalp.org/dbnary/fra/___fr_dbnary_dataset\" target=\"_other\">http://kaiko.getalp.org/dbnary/fra/___fr_dbnary_dataset</a></td>\n",
       "<td class=val><a href=\"http://www.w3.org/ns/lemon/lime#linguisticCatalog\" target=\"_other\">http://www.w3.org/ns/lemon/lime#linguisticCatalog</a></td>\n",
       "<td class=val>http://lexvo.org/id/iso639-3/</td></tr><tr class=even><td class=val><a href=\"http://kaiko.getalp.org/dbnary/fra/___fr_dbnary_dataset\" target=\"_other\">http://kaiko.getalp.org/dbnary/fra/___fr_dbnary_dataset</a></td>\n",
       "<td class=val><a href=\"http://www.w3.org/ns/lemon/lime#language\" target=\"_other\">http://www.w3.org/ns/lemon/lime#language</a></td>\n",
       "<td class=val>fr</td></tr><tr class=odd><td class=val><a href=\"http://kaiko.getalp.org/dbnary/fra/___fr_dbnary_dataset\" target=\"_other\">http://kaiko.getalp.org/dbnary/fra/___fr_dbnary_dataset</a></td>\n",
       "<td class=val><a href=\"http://kaiko.getalp.org/dbnary#wiktionaryDumpVersion\" target=\"_other\">http://kaiko.getalp.org/dbnary#wiktionaryDumpVersion</a></td>\n",
       "<td class=val>20220520</td></tr><tr class=even><td class=val><a href=\"http://kaiko.getalp.org/dbnary/fra/___fr_dbnary_dataset\" target=\"_other\">http://kaiko.getalp.org/dbnary/fra/___fr_dbnary_dataset</a></td>\n",
       "<td class=val><a href=\"http://xmlns.com/foaf/0.1/page\" target=\"_other\">http://xmlns.com/foaf/0.1/page</a></td>\n",
       "<td class=val>http://kaiko.getalp.org/static/ontolex/fr</td></tr></table><div class=\"tinfo\">Shown: 18, Total rows: 18</div></div>"
      ]
     },
     "metadata": {},
     "output_type": "display_data"
    }
   ],
   "source": [
    "%display table\n",
    "CONSTRUCT {<http://kaiko.getalp.org/dbnary/fra/___fr_dbnary_dataset> ?p ?o} WHERE {\n",
    "    <http://kaiko.getalp.org/dbnary/fra/___fr_dbnary_dataset> ?p ?o.\n",
    "    FILTER (?p != lime:entry)\n",
    "}\n",
    "    "
   ]
  },
  {
   "cell_type": "markdown",
   "id": "9ec3444a-5baa-4373-9c49-528ee2853745",
   "metadata": {},
   "source": [
    "## Get all entries from label\n",
    "\n",
    "Here we want to get all entries with label \"chat\"@fr"
   ]
  },
  {
   "cell_type": "code",
   "execution_count": 5,
   "id": "06c14ee6-1242-4406-bde8-1d9030bbce2f",
   "metadata": {},
   "outputs": [
    {
     "data": {
      "text/html": [
       "<div class=\"krn-spql\"><table><tr class=hdr><th>le</th></tr><tr class=odd><td class=val><a href=\"http://kaiko.getalp.org/dbnary/spa/_fra__chat__sustantivo_masculino__1\" target=\"_other\">http://kaiko.getalp.org/dbnary/spa/_fra__chat__sustantivo_masculino__1</a></td></tr><tr class=even><td class=val><a href=\"http://kaiko.getalp.org/dbnary/ell/_fra__chat__ουσιαστικό__1\" target=\"_other\">http://kaiko.getalp.org/dbnary/ell/_fra__chat__ουσιαστικό__1</a></td></tr><tr class=odd><td class=val><a href=\"http://kaiko.getalp.org/dbnary/ell/_fra__chat__ουσιαστικό__2\" target=\"_other\">http://kaiko.getalp.org/dbnary/ell/_fra__chat__ουσιαστικό__2</a></td></tr><tr class=even><td class=val><a href=\"http://kaiko.getalp.org/dbnary/fra/chat__nom__1\" target=\"_other\">http://kaiko.getalp.org/dbnary/fra/chat__nom__1</a></td></tr><tr class=odd><td class=val><a href=\"http://kaiko.getalp.org/dbnary/fra/chat__nom__2\" target=\"_other\">http://kaiko.getalp.org/dbnary/fra/chat__nom__2</a></td></tr><tr class=even><td class=val><a href=\"http://kaiko.getalp.org/dbnary/fra/chat__nom__3\" target=\"_other\">http://kaiko.getalp.org/dbnary/fra/chat__nom__3</a></td></tr><tr class=odd><td class=val><a href=\"http://kaiko.getalp.org/dbnary/ita/_fra__chat__sost__1\" target=\"_other\">http://kaiko.getalp.org/dbnary/ita/_fra__chat__sost__1</a></td></tr></table><div class=\"tinfo\">Total: 7, Shown: 7</div></div>"
      ]
     },
     "metadata": {},
     "output_type": "display_data"
    }
   ],
   "source": [
    "SELECT * WHERE {\n",
    "  ?le rdfs:label \"chat\"@fr.\n",
    "}"
   ]
  },
  {
   "cell_type": "markdown",
   "id": "029b6094-bd0f-4cf0-90dd-9984fc3a1762",
   "metadata": {},
   "source": [
    "Here, you'll see that there are entries from the Greek edition (exolexicon) along with entries from the French edition (endolexicon).\n",
    "\n",
    "- *Endolexicon*: lexicon of language _l_ extracted from language _l_ wiktionary edition.\n",
    "- *Exolexicon*: lexicon of language _l_ extracted from language _w_ wiktionary edition (l ≠ w)\n",
    "\n",
    "For example, in the returned lexical entries, http://kaiko.getalp.org/dbnary/spa/_fra__chat__sustantivo_masculino__1 is a French entry described in the Greek wiktionary edition.\n",
    "\n",
    "So, if we only want endolexicon entries, we should state so. So, let's refine the query by asking for the French endolexicon one. "
   ]
  },
  {
   "cell_type": "code",
   "execution_count": 9,
   "id": "bf5206cf-05ba-4f4e-aa5a-8827996f2ef0",
   "metadata": {},
   "outputs": [
    {
     "data": {
      "text/html": [
       "<div class=\"krn-spql\"><table><tr class=hdr><th>le</th></tr><tr class=odd><td class=val><a href=\"http://kaiko.getalp.org/dbnary/fra/chat__nom__2\" target=\"_other\">http://kaiko.getalp.org/dbnary/fra/chat__nom__2</a></td></tr><tr class=even><td class=val><a href=\"http://kaiko.getalp.org/dbnary/fra/chat__nom__1\" target=\"_other\">http://kaiko.getalp.org/dbnary/fra/chat__nom__1</a></td></tr><tr class=odd><td class=val><a href=\"http://kaiko.getalp.org/dbnary/fra/chat__nom__3\" target=\"_other\">http://kaiko.getalp.org/dbnary/fra/chat__nom__3</a></td></tr></table><div class=\"tinfo\">Total: 3, Shown: 3</div></div>"
      ]
     },
     "metadata": {},
     "output_type": "display_data"
    }
   ],
   "source": [
    "SELECT * WHERE {\n",
    "  ?le rdfs:label \"chat\"@fr;\n",
    "      ^lime:entry/dcterms:language lexvo:fra.\n",
    "}"
   ]
  },
  {
   "cell_type": "markdown",
   "id": "541d5e6d-71d6-4f70-935d-e7f932abdab2",
   "metadata": {},
   "source": [
    "# Querying translations\n",
    "\n",
    "Ontolex provides a model for representing translations called `vartrans`. \n",
    "\n",
    "`vartrans`defines a `vartrans:translatableAs` property that links a source lexical entry with a target lexical entry.\n",
    "\n",
    "Let's try to use it:"
   ]
  },
  {
   "cell_type": "code",
   "execution_count": 17,
   "id": "b93aa3a3-2b20-4ec4-8c43-7d4683500338",
   "metadata": {},
   "outputs": [
    {
     "data": {
      "text/html": [
       "<div class=\"krn-spql\"><table><tr class=hdr><th>sourcele</th>\n",
       "<th>targetle</th></tr></table><div class=\"tinfo\">Total: 0, Shown: 0</div></div>"
      ]
     },
     "metadata": {},
     "output_type": "display_data"
    }
   ],
   "source": [
    "SELECT * WHERE {\n",
    "  ?sourcele rdfs:label \"chat\"@fr;\n",
    "      vartrans:translatableAs ?targetle.\n",
    "}"
   ]
  },
  {
   "cell_type": "markdown",
   "id": "00dfda7e-a354-42ae-b81b-4c08dc218135",
   "metadata": {},
   "source": [
    "This gives entries that are translations of any entry with label \"chat\"@fr. You could also restrict to endolex entries, but this won't change anything, because translations are seldom given in the exolexica. Moreover, DBnary vartrans relations only point to endolex entries. \n",
    "\n",
    "One could also check for translations *to* \"chat\"@fr (note the ^ that says the relation should be inversed):"
   ]
  },
  {
   "cell_type": "code",
   "execution_count": 38,
   "id": "c08c1cef-cec5-4e66-9aeb-27cb4acf07c2",
   "metadata": {},
   "outputs": [
    {
     "data": {
      "text/html": [
       "<div class=\"krn-spql\"><table><tr class=hdr><th>sourcele</th>\n",
       "<th>targetle</th></tr></table><div class=\"tinfo\">Total: 0, Shown: 0</div></div>"
      ]
     },
     "metadata": {},
     "output_type": "display_data"
    }
   ],
   "source": [
    "SELECT * WHERE {\n",
    "  ?targetle \n",
    "      ^vartrans:translatableAs ?sourcele.\n",
    "}"
   ]
  },
  {
   "cell_type": "code",
   "execution_count": 37,
   "id": "bc094bcb-d80e-4f11-a715-0f3b993cffa4",
   "metadata": {},
   "outputs": [
    {
     "data": {
      "text/html": [
       "<div class=\"krn-spql\"><div class=\"magic\">Result maximum size: 200</div></div>"
      ],
      "text/plain": [
       "Result maximum size: 200\n"
      ]
     },
     "metadata": {},
     "output_type": "display_data"
    },
    {
     "data": {
      "text/html": [
       "<div class=\"krn-spql\"><table><tr class=hdr><th>sle</th>\n",
       "<th>trans</th>\n",
       "<th>tle</th></tr><tr class=odd><td class=val><a href=\"http://kaiko.getalp.org/dbnary/fra/chat__nom__1\" target=\"_other\">http://kaiko.getalp.org/dbnary/fra/chat__nom__1</a></td>\n",
       "<td class=val><a href=\"http://kaiko.getalp.org/dbnary/fra/__tr_deu_2_chat__nom__1\" target=\"_other\">http://kaiko.getalp.org/dbnary/fra/__tr_deu_2_chat__nom__1</a></td>\n",
       "<td class=val>http://kaiko.getalp.org/dbnary/deu/Kater__Substantiv__1 | http://kaiko.getalp.org/dbnary/deu/Kater__Substantiv__2</td></tr><tr class=even><td class=val><a href=\"http://kaiko.getalp.org/dbnary/fra/chat__nom__1\" target=\"_other\">http://kaiko.getalp.org/dbnary/fra/chat__nom__1</a></td>\n",
       "<td class=val><a href=\"http://kaiko.getalp.org/dbnary/fra/__tr_eng_3_chat__nom__1\" target=\"_other\">http://kaiko.getalp.org/dbnary/fra/__tr_eng_3_chat__nom__1</a></td>\n",
       "<td class=val>http://kaiko.getalp.org/dbnary/eng/cat__Noun__1 | http://kaiko.getalp.org/dbnary/eng/cat__Noun__2 | http://kaiko.getalp.org/dbnary/eng/cat__Noun__3 | http://kaiko.getalp.org/dbnary/eng/cat__Noun__4 | http://kaiko.getalp.org/dbnary/eng/cat__Noun__5 | http://kaiko.getalp.org/dbnary/eng/cat__Noun__6 | http://kaiko.getalp.org/dbnary/eng/cat__Noun__7 | http://kaiko.getalp.org/dbnary/eng/cat__Noun__8 | http://kaiko.getalp.org/dbnary/eng/cat__Noun__9</td></tr><tr class=odd><td class=val><a href=\"http://kaiko.getalp.org/dbnary/fra/chat__nom__1\" target=\"_other\">http://kaiko.getalp.org/dbnary/fra/chat__nom__1</a></td>\n",
       "<td class=val><a href=\"http://kaiko.getalp.org/dbnary/fra/__tr_eng_1_chat__nom__1\" target=\"_other\">http://kaiko.getalp.org/dbnary/fra/__tr_eng_1_chat__nom__1</a></td>\n",
       "<td class=val>http://kaiko.getalp.org/dbnary/eng/cat__Noun__1 | http://kaiko.getalp.org/dbnary/eng/cat__Noun__2 | http://kaiko.getalp.org/dbnary/eng/cat__Noun__3 | http://kaiko.getalp.org/dbnary/eng/cat__Noun__4 | http://kaiko.getalp.org/dbnary/eng/cat__Noun__5 | http://kaiko.getalp.org/dbnary/eng/cat__Noun__6 | http://kaiko.getalp.org/dbnary/eng/cat__Noun__7 | http://kaiko.getalp.org/dbnary/eng/cat__Noun__8 | http://kaiko.getalp.org/dbnary/eng/cat__Noun__9</td></tr><tr class=even><td class=val><a href=\"http://kaiko.getalp.org/dbnary/fra/chat__nom__1\" target=\"_other\">http://kaiko.getalp.org/dbnary/fra/chat__nom__1</a></td>\n",
       "<td class=val><a href=\"http://kaiko.getalp.org/dbnary/fra/__tr_pol_1_chat__nom__1\" target=\"_other\">http://kaiko.getalp.org/dbnary/fra/__tr_pol_1_chat__nom__1</a></td>\n",
       "<td class=val>http://kaiko.getalp.org/dbnary/pol/kot__rzeczownik__1 | http://kaiko.getalp.org/dbnary/pol/kot__rzeczownik__2</td></tr><tr class=odd><td class=val><a href=\"http://kaiko.getalp.org/dbnary/fra/chat__nom__1\" target=\"_other\">http://kaiko.getalp.org/dbnary/fra/chat__nom__1</a></td>\n",
       "<td class=val><a href=\"http://kaiko.getalp.org/dbnary/fra/__tr_ell_2_chat__nom__1\" target=\"_other\">http://kaiko.getalp.org/dbnary/fra/__tr_ell_2_chat__nom__1</a></td>\n",
       "<td class=val>http://kaiko.getalp.org/dbnary/ell/γάτος__ουσιαστικό__1 | http://kaiko.getalp.org/dbnary/ell/γάτος__ουσιαστικό__2</td></tr><tr class=even><td class=val><a href=\"http://kaiko.getalp.org/dbnary/fra/chat__nom__1\" target=\"_other\">http://kaiko.getalp.org/dbnary/fra/chat__nom__1</a></td>\n",
       "<td class=val><a href=\"http://kaiko.getalp.org/dbnary/fra/__tr_pol_8_chat__nom__1\" target=\"_other\">http://kaiko.getalp.org/dbnary/fra/__tr_pol_8_chat__nom__1</a></td>\n",
       "<td class=val>http://kaiko.getalp.org/dbnary/pol/kot__rzeczownik__1 | http://kaiko.getalp.org/dbnary/pol/kot__rzeczownik__2</td></tr><tr class=odd><td class=val><a href=\"http://kaiko.getalp.org/dbnary/fra/chat__nom__1\" target=\"_other\">http://kaiko.getalp.org/dbnary/fra/chat__nom__1</a></td>\n",
       "<td class=val><a href=\"http://kaiko.getalp.org/dbnary/fra/__tr_rus_2_chat__nom__1\" target=\"_other\">http://kaiko.getalp.org/dbnary/fra/__tr_rus_2_chat__nom__1</a></td>\n",
       "<td class=val>http://kaiko.getalp.org/dbnary/rus/кошка__сущ__1 | http://kaiko.getalp.org/dbnary/rus/кошка__сущ__2 | http://kaiko.getalp.org/dbnary/rus/кошка__сущ__3</td></tr><tr class=even><td class=val><a href=\"http://kaiko.getalp.org/dbnary/fra/chat__nom__1\" target=\"_other\">http://kaiko.getalp.org/dbnary/fra/chat__nom__1</a></td>\n",
       "<td class=val><a href=\"http://kaiko.getalp.org/dbnary/fra/__tr_ita_3_chat__nom__1\" target=\"_other\">http://kaiko.getalp.org/dbnary/fra/__tr_ita_3_chat__nom__1</a></td>\n",
       "<td class=val>http://kaiko.getalp.org/dbnary/ita/micio__sost__2 | http://kaiko.getalp.org/dbnary/ita/micio__sost__1</td></tr><tr class=odd><td class=val><a href=\"http://kaiko.getalp.org/dbnary/fra/chat__nom__1\" target=\"_other\">http://kaiko.getalp.org/dbnary/fra/chat__nom__1</a></td>\n",
       "<td class=val><a href=\"http://kaiko.getalp.org/dbnary/fra/__tr_rus_3_chat__nom__1\" target=\"_other\">http://kaiko.getalp.org/dbnary/fra/__tr_rus_3_chat__nom__1</a></td>\n",
       "<td class=val>http://kaiko.getalp.org/dbnary/rus/кошка__сущ__1 | http://kaiko.getalp.org/dbnary/rus/кошка__сущ__2 | http://kaiko.getalp.org/dbnary/rus/кошка__сущ__3</td></tr><tr class=even><td class=val><a href=\"http://kaiko.getalp.org/dbnary/fra/chat__nom__1\" target=\"_other\">http://kaiko.getalp.org/dbnary/fra/chat__nom__1</a></td>\n",
       "<td class=val><a href=\"http://kaiko.getalp.org/dbnary/fra/__tr_pol_6_chat__nom__1\" target=\"_other\">http://kaiko.getalp.org/dbnary/fra/__tr_pol_6_chat__nom__1</a></td>\n",
       "<td class=val>http://kaiko.getalp.org/dbnary/pol/kot__rzeczownik__1 | http://kaiko.getalp.org/dbnary/pol/kot__rzeczownik__2</td></tr></table><div class=\"tinfo\">Total: 10, Shown: 10</div></div>"
      ]
     },
     "metadata": {},
     "output_type": "display_data"
    }
   ],
   "source": [
    "%show 200\n",
    "SELECT (sample(?sle) as ?sle), ?trans, group_concat(?le,\" | \") as ?tle WHERE {\n",
    "      ?trans\n",
    "        a dbnary:Translation ;\n",
    "        dbnary:isTranslationOf ?sle ;\n",
    "        dbnary:targetLanguage ?lg ;\n",
    "        dbnary:writtenForm ?wf.\n",
    "      ?sle a ontolex:LexicalEntry;\n",
    "        dcterms:language lexvo:fra;\n",
    "        rdfs:label \"chat\"@fr;\n",
    "        lexinfo:partOfSpeech ?pos.\n",
    "      ?le a ontolex:LexicalEntry;\n",
    "        dcterms:language ?lg;\n",
    "        ^lime:entry/dcterms:language ?lg;\n",
    "        rdfs:label ?wf;\n",
    "        lexinfo:partOfSpeech ?pos.\n",
    "    VALUES (?pos) {(lexinfo:noun)}\n",
    "} GROUP BY ?trans\n",
    "HAVING (COUNT(?le)=1)"
   ]
  }
 ],
 "metadata": {
  "kernelspec": {
   "display_name": "SPARQL",
   "language": "sparql",
   "name": "sparql"
  },
  "language_info": {
   "codemirror_mode": {
    "name": "sparql"
   },
   "mimetype": "application/sparql-query",
   "name": "sparql",
   "pygments_lexer": "sparql-nb"
  }
 },
 "nbformat": 4,
 "nbformat_minor": 5
}
