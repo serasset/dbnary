{
 "cells": [
  {
   "cell_type": "markdown",
   "metadata": {},
   "source": [
    "# Test de visualisation de dataframe avec panda\n",
    "\n",
    "Et voir si on peut utiliser cela pour visualiser les dataset RDF dans DBnary."
   ]
  },
  {
   "cell_type": "markdown",
   "metadata": {
    "pycharm": {
     "name": "#%% md\n"
    }
   },
   "source": [
    "Il est donc facile d'afficher des graphiques avec des données sous forme de dataframe panda.\n",
    "\n",
    "La question devient donc, comment créer un dataframe panda à partir d'un datacube RDF.\n",
    "\n",
    "Hélas, le projet pandardf semble n'être qu'une doc de comment faire... rien de fonctionnel\n",
    "\n",
    "**Conclusion**: essayer de faire une page dataviz avec nodejs..."
   ]
  },
  {
   "cell_type": "markdown",
   "metadata": {},
   "source": [
    "# Lecture des stats de DBnary avec pandas \n",
    "\n",
    "Il est possible d'utiliser une requête adhoc pour récupérer les statistiques de DBnary (stockées en DataCube/RDF) en un csv qui peut facilement être affiché.\n",
    "\n",
    "Les différentes requêtes sont : \n",
    "\n",
    "### Statistiques générales de la dernière version\n"
   ]
  },
  {
   "cell_type": "code",
   "execution_count": 16,
   "metadata": {},
   "outputs": [],
   "source": [
    "latest_general_stats_query=\"\"\"SELECT ?Language\n",
    "        (sample(?maxversion) as ?Version)\n",
    "        (sample(?num_entries) as ?Entries)\n",
    "        (sample(?num_pages) as ?Vocables)\n",
    "        (sample(?num_senses) as ?Senses)\n",
    "        (sample(?num_translations) as ?Translations)\n",
    "WHERE\n",
    "{\n",
    "    {\n",
    "     # Select the latest version\n",
    "     SELECT distinct(?version) as ?maxversion\n",
    "     WHERE { ?s dbnary:wiktionaryDumpVersion ?version . }\n",
    "     ORDER BY DESC(?version) LIMIT 1\n",
    "    }\n",
    "\n",
    "    ?obs\n",
    "        qb:dataSet dbnstats:dbnaryStatisticsCube ;\n",
    "        dbnary:observationLanguage ?Language ;\n",
    "        dbnary:lexicalEntryCount ?num_entries ;\n",
    "        dbnary:pageCount ?num_pages ;\n",
    "        dbnary:lexicalSenseCount ?num_senses ;\n",
    "        dbnary:translationsCount ?num_translations ;\n",
    "        dbnary:wiktionaryDumpVersion ?maxversion .\n",
    "}\n",
    "GROUP BY ?Language\n",
    "ORDER BY ?Language\"\"\""
   ]
  },
  {
   "cell_type": "markdown",
   "metadata": {},
   "source": [
    "### Statistiques des traductions de la dernière version"
   ]
  },
  {
   "cell_type": "code",
   "execution_count": 17,
   "metadata": {},
   "outputs": [],
   "source": [
    "latest_translation_stats_query=\"\"\"SELECT ?Language\n",
    "      (sample(?maxversion) as ?Version)\n",
    "        (sample(?deuCount) as ?deu)\n",
    "        (sample(?ellCount) as ?ell)\n",
    "        (sample(?engCount) as ?eng)\n",
    "        (sample(?finCount) as ?fin)\n",
    "        (sample(?fraCount) as ?fra)\n",
    "        (sample(?itaCount) as ?ita)\n",
    "        (sample(?jpnCount) as ?jpn)\n",
    "        (sample(?porCount) as ?por)\n",
    "        (sample(?rusCount) as ?rus)\n",
    "        (sample(?turCount) as ?tur)\n",
    "        (sample(?othersCount) as ?others)\n",
    "        (sample(?totalCount) as ?total)\n",
    "        (sample(?langCount) as ?number_of_languages)\n",
    "WHERE {\n",
    "    {\n",
    "     # Select the latest version\n",
    "     SELECT distinct(?version) as ?maxversion\n",
    "     WHERE { ?s dbnary:wiktionaryDumpVersion ?version ; qb:dataSet dbnstats:dbnaryNymRelationsCube . }\n",
    "     ORDER BY DESC(?version) LIMIT 1\n",
    "    }\n",
    "\n",
    "    ?obs\n",
    "        qb:dataSet dbnstats:dbnaryTranslationsCube ;\n",
    "        dbnary:observationLanguage ?Language ;\n",
    "        dbnary:wiktionaryDumpVersion ?maxversion .\n",
    "\n",
    "        { ?obs dbnary:nymRelation dbnary:synonym ; dbnary:count ?synCount. }\n",
    "        UNION { ?obs lime:language \"de\" ; dbnary:count ?deuCount . }\n",
    "        UNION { ?obs lime:language \"el\" ; dbnary:count ?ellCount . }\n",
    "        UNION { ?obs lime:language \"en\" ; dbnary:count ?engCount . }\n",
    "        UNION { ?obs lime:language \"fi\" ; dbnary:count ?finCount . }\n",
    "        UNION { ?obs lime:language \"fr\" ; dbnary:count ?fraCount . }\n",
    "        UNION { ?obs lime:language \"it\" ; dbnary:count ?itaCount . }\n",
    "        UNION { ?obs lime:language \"ja\" ; dbnary:count ?jpnCount . }\n",
    "        UNION { ?obs lime:language \"pt\" ; dbnary:count ?porCount . }\n",
    "        UNION { ?obs lime:language \"ru\" ; dbnary:count ?rusCount . }\n",
    "        UNION { ?obs lime:language \"tr\" ; dbnary:count ?turCount . }\n",
    "        UNION { ?obs lime:language \"others\" ; dbnary:count ?othersCount . }\n",
    "        UNION { ?obs lime:language \"mul\" ; dbnary:count ?totalCount . }\n",
    "        UNION { ?obs lime:language \"number_of_languages\" ; dbnary:count ?langCount . }\n",
    "\n",
    "} GROUP by ?Language\n",
    "ORDER BY ?Language\"\"\"\n"
   ]
  },
  {
   "cell_type": "markdown",
   "metadata": {},
   "source": [
    "### Latest lexical relations statistics"
   ]
  },
  {
   "cell_type": "code",
   "execution_count": 18,
   "metadata": {
    "pycharm": {
     "name": "#%%\n"
    }
   },
   "outputs": [],
   "source": [
    "latest_nym_stats_query=\"\"\"SELECT ?Language (sample(?maxversion) as ?Version)\n",
    "        (sample(?synCount) as ?syn)\n",
    "        (sample(?qsynCount) as ?qsyn)\n",
    "        (sample(?antCount) as ?ant)\n",
    "        (sample(?hyperCount) as ?hyper)\n",
    "        (sample(?hypoCount) as ?hypo)\n",
    "        (sample(?meroCount) as ?mero)\n",
    "        (sample(?holoCount) as ?holo)\n",
    "        (sample(?tropoCount) as ?tropo)\n",
    "WHERE {\n",
    "    {\n",
    "     # Select the latest version\n",
    "     SELECT distinct(?version) as ?maxversion\n",
    "     WHERE { ?s dbnary:wiktionaryDumpVersion ?version ; qb:dataSet dbnstats:dbnaryNymRelationsCube . }\n",
    "     ORDER BY DESC(?version) LIMIT 1\n",
    "    }\n",
    "\n",
    "    ?obs\n",
    "        qb:dataSet dbnstats:dbnaryNymRelationsCube ;\n",
    "        dbnary:observationLanguage ?Language ;\n",
    "        dbnary:wiktionaryDumpVersion ?maxversion .\n",
    "\n",
    "        { ?obs dbnary:nymRelation dbnary:synonym ; dbnary:count ?synCount. }\n",
    "        UNION { ?obs dbnary:nymRelation dbnary:approximateSynonym ; dbnary:count ?qsynCount. }\n",
    "        UNION { ?obs dbnary:nymRelation dbnary:antonym ; dbnary:count ?antCount. }\n",
    "        UNION { ?obs dbnary:nymRelation dbnary:hypernym ; dbnary:count ?hyperCount. }\n",
    "        UNION { ?obs dbnary:nymRelation dbnary:hyponym ; dbnary:count ?hypoCount. }\n",
    "        UNION { ?obs dbnary:nymRelation dbnary:meronym ; dbnary:count ?meroCount. }\n",
    "        UNION { ?obs dbnary:nymRelation dbnary:holonym ; dbnary:count ?holoCount. }\n",
    "        UNION { ?obs dbnary:nymRelation dbnary:troponym ; dbnary:count ?tropoCount. }\n",
    "\n",
    "} GROUP by ?Language\n",
    "ORDER BY ?Language\"\"\""
   ]
  },
  {
   "cell_type": "markdown",
   "metadata": {
    "pycharm": {
     "name": "#%% md\n"
    }
   },
   "source": [
    "## Querying the DBnary SPARQL datapoint using the preceding queries\n",
    "\n",
    "### Setup and utility functions"
   ]
  },
  {
   "cell_type": "code",
   "execution_count": 22,
   "metadata": {
    "pycharm": {
     "name": "#%%\n"
    }
   },
   "outputs": [
    {
     "data": {
      "text/html": [
       "<div>\n",
       "<style scoped>\n",
       "    .dataframe tbody tr th:only-of-type {\n",
       "        vertical-align: middle;\n",
       "    }\n",
       "\n",
       "    .dataframe tbody tr th {\n",
       "        vertical-align: top;\n",
       "    }\n",
       "\n",
       "    .dataframe thead th {\n",
       "        text-align: right;\n",
       "    }\n",
       "</style>\n",
       "<table border=\"1\" class=\"dataframe\">\n",
       "  <thead>\n",
       "    <tr style=\"text-align: right;\">\n",
       "      <th></th>\n",
       "      <th>Entries</th>\n",
       "      <th>Vocables</th>\n",
       "      <th>Senses</th>\n",
       "      <th>Translations</th>\n",
       "    </tr>\n",
       "    <tr>\n",
       "      <th>Language</th>\n",
       "      <th></th>\n",
       "      <th></th>\n",
       "      <th></th>\n",
       "      <th></th>\n",
       "    </tr>\n",
       "  </thead>\n",
       "  <tbody>\n",
       "    <tr>\n",
       "      <th>bg</th>\n",
       "      <td>18735</td>\n",
       "      <td>27095</td>\n",
       "      <td>18523</td>\n",
       "      <td>15535</td>\n",
       "    </tr>\n",
       "    <tr>\n",
       "      <th>de</th>\n",
       "      <td>173975</td>\n",
       "      <td>299642</td>\n",
       "      <td>168469</td>\n",
       "      <td>689989</td>\n",
       "    </tr>\n",
       "    <tr>\n",
       "      <th>el</th>\n",
       "      <td>553959</td>\n",
       "      <td>533341</td>\n",
       "      <td>246944</td>\n",
       "      <td>167386</td>\n",
       "    </tr>\n",
       "    <tr>\n",
       "      <th>en</th>\n",
       "      <td>1007606</td>\n",
       "      <td>957009</td>\n",
       "      <td>785380</td>\n",
       "      <td>2490684</td>\n",
       "    </tr>\n",
       "    <tr>\n",
       "      <th>es</th>\n",
       "      <td>93686</td>\n",
       "      <td>97901</td>\n",
       "      <td>129755</td>\n",
       "      <td>168469</td>\n",
       "    </tr>\n",
       "  </tbody>\n",
       "</table>\n",
       "</div>"
      ],
      "text/plain": [
       "          Entries  Vocables  Senses  Translations\n",
       "Language                                         \n",
       "bg          18735     27095   18523         15535\n",
       "de         173975    299642  168469        689989\n",
       "el         553959    533341  246944        167386\n",
       "en        1007606    957009  785380       2490684\n",
       "es          93686     97901  129755        168469"
      ]
     },
     "execution_count": 22,
     "metadata": {},
     "output_type": "execute_result"
    }
   ],
   "source": [
    "import urllib\n",
    "import io\n",
    "\n",
    "class DBnaryStatsQuery:\n",
    "\n",
    "    # Utility function to wrap the query in a url.\n",
    "    def __get_query_url(self, query: str) :\n",
    "        return self.endpoint + '?' + urllib.parse.urlencode({\n",
    "                'query' : query,\n",
    "                'format': 'text/csv'\n",
    "            })\n",
    "\n",
    "    def __init__(self, query: str,  endpoint, index:str='Language',):\n",
    "        self.query = query\n",
    "        self.index = index\n",
    "        self.endpoint = endpoint\n",
    "        self.url = self.__get_query_url(self.query)\n",
    "        self.dataframe = None\n",
    "\n",
    "    def get_csv(self) :\n",
    "        r = urllib.request.urlopen(self.url)\n",
    "        if r.getcode() == 200:\n",
    "            return io.BytesIO(r.read())\n",
    "        else:\n",
    "            return \"\"\n",
    "        \n",
    "    def get_dataframe(self):\n",
    "        if self.dataframe is None :\n",
    "            self.dataframe = pd.read_csv(self.get_csv(), index_col='Language')\n",
    "        return self.dataframe\n",
    "        \n",
    "\n",
    "class DBnary:\n",
    "    default_endpoint = \"http://kaiko.getalp.org/sparql\"\n",
    "\n",
    "    def __createQuery(self, sparql: str, index='Language'):\n",
    "        return DBnaryStatsQuery(sparql, index=index, endpoint=self.endpoint)\n",
    "\n",
    "    def __init__(self, endpoint=default_endpoint):\n",
    "        self.endpoint = endpoint\n",
    "        self.latest_general = self.__createQuery(latest_general_stats_query)\n",
    "        self.latest_translations = self.__createQuery(latest_translation_stats_query)\n",
    "        self.latest_nyms = self.__createQuery(latest_nym_stats_query)\n",
    "\n",
    "dbnary = DBnary()\n"
   ]
  },
  {
   "cell_type": "code",
   "execution_count": 25,
   "metadata": {},
   "outputs": [
    {
     "data": {
      "image/png": "[encoded data removed]",
      "text/plain": [
       "<Figure size 432x288 with 1 Axes>"
      ]
     },
     "metadata": {
      "needs_background": "light"
     },
     "output_type": "display_data"
    }
   ],
   "source": [
    "data = dbnary.latest_general.get_dataframe()\n",
    "data = data.drop('Version', 1)\n",
    "data.head(5)\n",
    "data.plot.bar(stacked=True);"
   ]
  },
  {
   "cell_type": "code",
   "execution_count": null,
   "metadata": {
    "pycharm": {
     "name": "#%%\n"
    }
   },
   "outputs": [],
   "source": [
    "\n"
   ]
  }
 ],
 "metadata": {
  "kernelspec": {
   "display_name": "Python 3",
   "language": "python",
   "name": "python3"
  },
  "language_info": {
   "codemirror_mode": {
    "name": "ipython",
    "version": 3
   },
   "file_extension": ".py",
   "mimetype": "text/x-python",
   "name": "python",
   "nbconvert_exporter": "python",
   "pygments_lexer": "ipython3",
   "version": "3.8.6"
  }
 },
 "nbformat": 4,
 "nbformat_minor": 4
}