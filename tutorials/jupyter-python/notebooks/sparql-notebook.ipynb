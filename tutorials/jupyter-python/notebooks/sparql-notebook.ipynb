{
 "cells": [
  {
   "cell_type": "markdown",
   "id": "81b43e5d",
   "metadata": {},
   "source": [
    "# Simple notebook for SPARQL queries\n",
    "\n",
    "We will experiment here with the SPARQL kernel. First see what are the available magics :"
   ]
  },
  {
   "cell_type": "code",
   "execution_count": 1,
   "id": "a5ac9055",
   "metadata": {},
   "outputs": [
    {
     "data": {
      "text/html": [
       "<div class=\"krn-spql\"><div class=\"magic-help\">Available magics:<br/>%auth  %display  %endpoint  %format  %graph  %header  %http_header  %lang  %load  %log  %lsmagics  %method  %outfile  %prefix  %qparam  %show<br/><br/>%auth (basic|digest|none) &lt;username&gt; &lt;passwd&gt; : send HTTP authentication (use env:&lt;var&gt; to get values from environment variables)<br/>%display raw | table [withtypes] | diagram [svg|png] [withliterals] : set display format<br/>%endpoint &lt;url&gt; : set SPARQL endpoint. **REQUIRED**<br/>%format JSON | N3 | XML | default | any | none : set requested result format<br/>%graph &lt;uri&gt; : set default graph for the queries<br/>%header &lt;string&gt; | OFF : add a persistent SPARQL header line before all queries, or delete all defined headers<br/>%http_header &lt;name&gt; [&lt;value&gt;] : add (or delete) an arbitrary HTTP header to all queries<br/>%lang &lt;lang&gt; [...] | default | all : language(s) preferred for labels<br/>%load &lt;filename&gt; : load a file with magic lines and process them<br/>%log critical | error | warning | info | debug : set logging level<br/>%lsmagics  : list all magics<br/>%method get | post : set HTTP method<br/>%outfile &lt;filename&gt; | off : save raw output to a file (use &quot;%d&quot; in name to add cell number, &quot;off&quot; to cancel saving)<br/>%prefix &lt;name&gt; [&lt;uri&gt;] : set (or delete) a persistent URI prefix for all queries<br/>%qparam &lt;name&gt; [&lt;value&gt;] : add (or delete) a persistent custom parameter to all queries<br/>%show &lt;n&gt; | all : maximum number of shown results</div></div>"
      ],
      "text/plain": [
       "Available magics:\n",
       "%auth  %display  %endpoint  %format  %graph  %header  %http_header  %lang  %load  %log  %lsmagics  %method  %outfile  %prefix  %qparam  %show\n",
       "\n",
       "%auth (basic|digest|none) <username> <passwd> : send HTTP authentication (use env:<var> to get values from environment variables)\n",
       "%display raw | table [withtypes] | diagram [svg|png] [withliterals] : set display format\n",
       "%endpoint <url> : set SPARQL endpoint. **REQUIRED**\n",
       "%format JSON | N3 | XML | default | any | none : set requested result format\n",
       "%graph <uri> : set default graph for the queries\n",
       "%header <string> | OFF : add a persistent SPARQL header line before all queries, or delete all defined headers\n",
       "%http_header <name> [<value>] : add (or delete) an arbitrary HTTP header to all queries\n",
       "%lang <lang> [...] | default | all : language(s) preferred for labels\n",
       "%load <filename> : load a file with magic lines and process them\n",
       "%log critical | error | warning | info | debug : set logging level\n",
       "%lsmagics  : list all magics\n",
       "%method get | post : set HTTP method\n",
       "%outfile <filename> | off : save raw output to a file (use \"%d\" in name to add cell number, \"off\" to cancel saving)\n",
       "%prefix <name> [<uri>] : set (or delete) a persistent URI prefix for all queries\n",
       "%qparam <name> [<value>] : add (or delete) a persistent custom parameter to all queries\n",
       "%show <n> | all : maximum number of shown results\n"
      ]
     },
     "metadata": {},
     "output_type": "display_data"
    }
   ],
   "source": [
    "%lsmagics"
   ]
  },
  {
   "cell_type": "markdown",
   "id": "bf4e6a85",
   "metadata": {},
   "source": [
    "So let's first interact with the public DBnary sparql endpoint"
   ]
  },
  {
   "cell_type": "code",
   "execution_count": 2,
   "id": "bddd21b4",
   "metadata": {},
   "outputs": [
    {
     "data": {
      "text/html": [
       "<div class=\"krn-spql\"><div class=\"magic\">Endpoint set to: http://kaiko.getalp.org/sparql</div><div class=\"magic\">Prefix set: dbnary-fra: = &lt;http://kaiko.getalp.org/dbnary/fra/&gt;</div><div class=\"magic\">Display: table</div></div>"
      ],
      "text/plain": [
       "Endpoint set to: http://kaiko.getalp.org/sparql\n",
       "Prefix set: dbnary-fra: = <http://kaiko.getalp.org/dbnary/fra/>\n",
       "Display: table\n"
      ]
     },
     "metadata": {},
     "output_type": "display_data"
    },
    {
     "data": {
      "text/html": [
       "<div class=\"krn-spql\"><table><tr class=hdr><th>subject</th>\n",
       "<th>predicate</th>\n",
       "<th>object</th></tr><tr class=odd><td class=val><a href=\"http://kaiko.getalp.org/dbnary/fra/chat_sauvage__nom__1\" target=\"_other\">http://kaiko.getalp.org/dbnary/fra/chat_sauvage__nom__1</a></td>\n",
       "<td class=val><a href=\"http://kaiko.getalp.org/dbnary#hypernym\" target=\"_other\">http://kaiko.getalp.org/dbnary#hypernym</a></td>\n",
       "<td class=val><a href=\"http://kaiko.getalp.org/dbnary/fra/chat\" target=\"_other\">http://kaiko.getalp.org/dbnary/fra/chat</a></td></tr><tr class=even><td class=val><a href=\"http://kaiko.getalp.org/dbnary/fra/chat\" target=\"_other\">http://kaiko.getalp.org/dbnary/fra/chat</a></td>\n",
       "<td class=val><a href=\"http://kaiko.getalp.org/dbnary#describes\" target=\"_other\">http://kaiko.getalp.org/dbnary#describes</a></td>\n",
       "<td class=val><a href=\"http://kaiko.getalp.org/dbnary/fra/chat__nom__2\" target=\"_other\">http://kaiko.getalp.org/dbnary/fra/chat__nom__2</a></td></tr><tr class=odd><td class=val><a href=\"http://kaiko.getalp.org/dbnary/fra/chat\" target=\"_other\">http://kaiko.getalp.org/dbnary/fra/chat</a></td>\n",
       "<td class=val><a href=\"http://kaiko.getalp.org/dbnary#describes\" target=\"_other\">http://kaiko.getalp.org/dbnary#describes</a></td>\n",
       "<td class=val><a href=\"http://kaiko.getalp.org/dbnary/fra/_fro__chat__nom__1\" target=\"_other\">http://kaiko.getalp.org/dbnary/fra/_fro__chat__nom__1</a></td></tr><tr class=even><td class=val><a href=\"http://kaiko.getalp.org/dbnary/fra/__ws_1_matou__nom__1\" target=\"_other\">http://kaiko.getalp.org/dbnary/fra/__ws_1_matou__nom__1</a></td>\n",
       "<td class=val><a href=\"http://kaiko.getalp.org/dbnary#hypernym\" target=\"_other\">http://kaiko.getalp.org/dbnary#hypernym</a></td>\n",
       "<td class=val><a href=\"http://kaiko.getalp.org/dbnary/fra/chat\" target=\"_other\">http://kaiko.getalp.org/dbnary/fra/chat</a></td></tr><tr class=odd><td class=val><a href=\"http://kaiko.getalp.org/dbnary/fra/__ws_1_chaus__nom__1\" target=\"_other\">http://kaiko.getalp.org/dbnary/fra/__ws_1_chaus__nom__1</a></td>\n",
       "<td class=val><a href=\"http://kaiko.getalp.org/dbnary#hypernym\" target=\"_other\">http://kaiko.getalp.org/dbnary#hypernym</a></td>\n",
       "<td class=val><a href=\"http://kaiko.getalp.org/dbnary/fra/chat\" target=\"_other\">http://kaiko.getalp.org/dbnary/fra/chat</a></td></tr><tr class=even><td class=val><a href=\"http://kaiko.getalp.org/dbnary/fra/chat_de_Mongolie__nom__1\" target=\"_other\">http://kaiko.getalp.org/dbnary/fra/chat_de_Mongolie__nom__1</a></td>\n",
       "<td class=val><a href=\"http://kaiko.getalp.org/dbnary#hypernym\" target=\"_other\">http://kaiko.getalp.org/dbnary#hypernym</a></td>\n",
       "<td class=val><a href=\"http://kaiko.getalp.org/dbnary/fra/chat\" target=\"_other\">http://kaiko.getalp.org/dbnary/fra/chat</a></td></tr><tr class=odd><td class=val><a href=\"http://kaiko.getalp.org/dbnary/fra/__ws_1_jeu_du_loup__nom__1\" target=\"_other\">http://kaiko.getalp.org/dbnary/fra/__ws_1_jeu_du_loup__nom__1</a></td>\n",
       "<td class=val><a href=\"http://kaiko.getalp.org/dbnary#synonym\" target=\"_other\">http://kaiko.getalp.org/dbnary#synonym</a></td>\n",
       "<td class=val><a href=\"http://kaiko.getalp.org/dbnary/fra/chat\" target=\"_other\">http://kaiko.getalp.org/dbnary/fra/chat</a></td></tr><tr class=even><td class=val><a href=\"http://kaiko.getalp.org/dbnary/fra/chat\" target=\"_other\">http://kaiko.getalp.org/dbnary/fra/chat</a></td>\n",
       "<td class=val><a href=\"http://kaiko.getalp.org/dbnary#describes\" target=\"_other\">http://kaiko.getalp.org/dbnary#describes</a></td>\n",
       "<td class=val><a href=\"http://kaiko.getalp.org/dbnary/fra/_eng__chat__nom__1\" target=\"_other\">http://kaiko.getalp.org/dbnary/fra/_eng__chat__nom__1</a></td></tr><tr class=odd><td class=val><a href=\"http://kaiko.getalp.org/dbnary/fra/chat_de_Gobi__nom__1\" target=\"_other\">http://kaiko.getalp.org/dbnary/fra/chat_de_Gobi__nom__1</a></td>\n",
       "<td class=val><a href=\"http://kaiko.getalp.org/dbnary#hypernym\" target=\"_other\">http://kaiko.getalp.org/dbnary#hypernym</a></td>\n",
       "<td class=val><a href=\"http://kaiko.getalp.org/dbnary/fra/chat\" target=\"_other\">http://kaiko.getalp.org/dbnary/fra/chat</a></td></tr><tr class=even><td class=val><a href=\"http://kaiko.getalp.org/dbnary/fra/chat_de_Biet__nom__1\" target=\"_other\">http://kaiko.getalp.org/dbnary/fra/chat_de_Biet__nom__1</a></td>\n",
       "<td class=val><a href=\"http://kaiko.getalp.org/dbnary#hypernym\" target=\"_other\">http://kaiko.getalp.org/dbnary#hypernym</a></td>\n",
       "<td class=val><a href=\"http://kaiko.getalp.org/dbnary/fra/chat\" target=\"_other\">http://kaiko.getalp.org/dbnary/fra/chat</a></td></tr><tr class=odd><td class=val><a href=\"http://kaiko.getalp.org/dbnary/fra/chat\" target=\"_other\">http://kaiko.getalp.org/dbnary/fra/chat</a></td>\n",
       "<td class=val><a href=\"http://www.w3.org/1999/02/22-rdf-syntax-ns#type\" target=\"_other\">http://www.w3.org/1999/02/22-rdf-syntax-ns#type</a></td>\n",
       "<td class=val><a href=\"http://kaiko.getalp.org/dbnary#Page\" target=\"_other\">http://kaiko.getalp.org/dbnary#Page</a></td></tr><tr class=even><td class=val><a href=\"http://kaiko.getalp.org/dbnary/fra/palatine__nom__1\" target=\"_other\">http://kaiko.getalp.org/dbnary/fra/palatine__nom__1</a></td>\n",
       "<td class=val><a href=\"http://kaiko.getalp.org/dbnary#synonym\" target=\"_other\">http://kaiko.getalp.org/dbnary#synonym</a></td>\n",
       "<td class=val><a href=\"http://kaiko.getalp.org/dbnary/fra/chat\" target=\"_other\">http://kaiko.getalp.org/dbnary/fra/chat</a></td></tr><tr class=odd><td class=val><a href=\"http://kaiko.getalp.org/dbnary/fra/__ws_1_Félinés__nom__1\" target=\"_other\">http://kaiko.getalp.org/dbnary/fra/__ws_1_Félinés__nom__1</a></td>\n",
       "<td class=val><a href=\"http://kaiko.getalp.org/dbnary#hyponym\" target=\"_other\">http://kaiko.getalp.org/dbnary#hyponym</a></td>\n",
       "<td class=val><a href=\"http://kaiko.getalp.org/dbnary/fra/chat\" target=\"_other\">http://kaiko.getalp.org/dbnary/fra/chat</a></td></tr><tr class=even><td class=val><a href=\"http://kaiko.getalp.org/dbnary/fra/__ws_1__mul-conv__Felis__nom_scientifique__1\" target=\"_other\">http://kaiko.getalp.org/dbnary/fra/__ws_1__mul-conv__Felis__nom_scientifique__1</a></td>\n",
       "<td class=val><a href=\"http://kaiko.getalp.org/dbnary#hyponym\" target=\"_other\">http://kaiko.getalp.org/dbnary#hyponym</a></td>\n",
       "<td class=val><a href=\"http://kaiko.getalp.org/dbnary/fra/chat\" target=\"_other\">http://kaiko.getalp.org/dbnary/fra/chat</a></td></tr><tr class=odd><td class=val><a href=\"http://kaiko.getalp.org/dbnary/fra/__ws_1_animal_de_compagnie__nom__1\" target=\"_other\">http://kaiko.getalp.org/dbnary/fra/__ws_1_animal_de_compagnie__nom__1</a></td>\n",
       "<td class=val><a href=\"http://kaiko.getalp.org/dbnary#hyponym\" target=\"_other\">http://kaiko.getalp.org/dbnary#hyponym</a></td>\n",
       "<td class=val><a href=\"http://kaiko.getalp.org/dbnary/fra/chat\" target=\"_other\">http://kaiko.getalp.org/dbnary/fra/chat</a></td></tr><tr class=even><td class=val><a href=\"http://kaiko.getalp.org/dbnary/fra/chat\" target=\"_other\">http://kaiko.getalp.org/dbnary/fra/chat</a></td>\n",
       "<td class=val><a href=\"http://kaiko.getalp.org/dbnary#describes\" target=\"_other\">http://kaiko.getalp.org/dbnary#describes</a></td>\n",
       "<td class=val><a href=\"http://kaiko.getalp.org/dbnary/fra/_hat__chat__nom__1\" target=\"_other\">http://kaiko.getalp.org/dbnary/fra/_hat__chat__nom__1</a></td></tr><tr class=odd><td class=val><a href=\"http://kaiko.getalp.org/dbnary/fra/__ws_1_félidé__nom__1\" target=\"_other\">http://kaiko.getalp.org/dbnary/fra/__ws_1_félidé__nom__1</a></td>\n",
       "<td class=val><a href=\"http://kaiko.getalp.org/dbnary#meronym\" target=\"_other\">http://kaiko.getalp.org/dbnary#meronym</a></td>\n",
       "<td class=val><a href=\"http://kaiko.getalp.org/dbnary/fra/chat\" target=\"_other\">http://kaiko.getalp.org/dbnary/fra/chat</a></td></tr><tr class=even><td class=val><a href=\"http://kaiko.getalp.org/dbnary/fra/chat\" target=\"_other\">http://kaiko.getalp.org/dbnary/fra/chat</a></td>\n",
       "<td class=val><a href=\"http://kaiko.getalp.org/dbnary#describes\" target=\"_other\">http://kaiko.getalp.org/dbnary#describes</a></td>\n",
       "<td class=val><a href=\"http://kaiko.getalp.org/dbnary/fra/chat__nom__3\" target=\"_other\">http://kaiko.getalp.org/dbnary/fra/chat__nom__3</a></td></tr><tr class=odd><td class=val><a href=\"http://kaiko.getalp.org/dbnary/fra/chat\" target=\"_other\">http://kaiko.getalp.org/dbnary/fra/chat</a></td>\n",
       "<td class=val><a href=\"http://kaiko.getalp.org/dbnary#describes\" target=\"_other\">http://kaiko.getalp.org/dbnary#describes</a></td>\n",
       "<td class=val><a href=\"http://kaiko.getalp.org/dbnary/fra/_gcr__chat__nom__1\" target=\"_other\">http://kaiko.getalp.org/dbnary/fra/_gcr__chat__nom__1</a></td></tr><tr class=even><td class=val><a href=\"http://kaiko.getalp.org/dbnary/fra/__ws_1_chat_des_marais__nom__1\" target=\"_other\">http://kaiko.getalp.org/dbnary/fra/__ws_1_chat_des_marais__nom__1</a></td>\n",
       "<td class=val><a href=\"http://kaiko.getalp.org/dbnary#hypernym\" target=\"_other\">http://kaiko.getalp.org/dbnary#hypernym</a></td>\n",
       "<td class=val><a href=\"http://kaiko.getalp.org/dbnary/fra/chat\" target=\"_other\">http://kaiko.getalp.org/dbnary/fra/chat</a></td></tr></table><div class=\"tinfo\">Shown: 20, Total rows: 30</div></div>"
      ]
     },
     "metadata": {},
     "output_type": "display_data"
    }
   ],
   "source": [
    "%endpoint http://kaiko.getalp.org/sparql\n",
    "%prefix dbnary-fra: <http://kaiko.getalp.org/dbnary/fra/>\n",
    "%display table\n",
    "\n",
    "DESCRIBE <http://kaiko.getalp.org/dbnary/fra/chat>"
   ]
  },
  {
   "cell_type": "markdown",
   "id": "308ebf7f",
   "metadata": {},
   "source": [
    "# Access to the DBnary metadata\n",
    "\n",
    "DBnary is structured as a set of Lexica that are described using ontolex's lime vocabulary :"
   ]
  },
  {
   "cell_type": "code",
   "execution_count": 3,
   "id": "e07a76e7",
   "metadata": {},
   "outputs": [
    {
     "data": {
      "text/html": [
       "<div class=\"krn-spql\"><table><tr class=hdr><th>lexicon</th></tr><tr class=odd><td class=val><a href=\"http://kaiko.getalp.org/dbnary/bul/___bg_dbnary_dataset\" target=\"_other\">http://kaiko.getalp.org/dbnary/bul/___bg_dbnary_dataset</a></td></tr><tr class=even><td class=val><a href=\"http://kaiko.getalp.org/dbnary/spa/___es_dbnary_dataset\" target=\"_other\">http://kaiko.getalp.org/dbnary/spa/___es_dbnary_dataset</a></td></tr><tr class=odd><td class=val><a href=\"http://kaiko.getalp.org/dbnary/deu/___de_dbnary_dataset\" target=\"_other\">http://kaiko.getalp.org/dbnary/deu/___de_dbnary_dataset</a></td></tr><tr class=even><td class=val><a href=\"http://kaiko.getalp.org/dbnary/ell/___el_dbnary_dataset\" target=\"_other\">http://kaiko.getalp.org/dbnary/ell/___el_dbnary_dataset</a></td></tr><tr class=odd><td class=val><a href=\"http://kaiko.getalp.org/dbnary/eng/___en_dbnary_dataset\" target=\"_other\">http://kaiko.getalp.org/dbnary/eng/___en_dbnary_dataset</a></td></tr><tr class=even><td class=val><a href=\"http://kaiko.getalp.org/dbnary/mlg/___mg_dbnary_dataset\" target=\"_other\">http://kaiko.getalp.org/dbnary/mlg/___mg_dbnary_dataset</a></td></tr><tr class=odd><td class=val><a href=\"http://kaiko.getalp.org/dbnary/fin/___fi_dbnary_dataset\" target=\"_other\">http://kaiko.getalp.org/dbnary/fin/___fi_dbnary_dataset</a></td></tr><tr class=even><td class=val><a href=\"http://kaiko.getalp.org/dbnary/fra/___fr_dbnary_dataset\" target=\"_other\">http://kaiko.getalp.org/dbnary/fra/___fr_dbnary_dataset</a></td></tr><tr class=odd><td class=val><a href=\"http://kaiko.getalp.org/dbnary/jpn/___ja_dbnary_dataset\" target=\"_other\">http://kaiko.getalp.org/dbnary/jpn/___ja_dbnary_dataset</a></td></tr><tr class=even><td class=val><a href=\"http://kaiko.getalp.org/dbnary/kur/___ku_dbnary_dataset\" target=\"_other\">http://kaiko.getalp.org/dbnary/kur/___ku_dbnary_dataset</a></td></tr><tr class=odd><td class=val><a href=\"http://kaiko.getalp.org/dbnary/nor/___no_dbnary_dataset\" target=\"_other\">http://kaiko.getalp.org/dbnary/nor/___no_dbnary_dataset</a></td></tr><tr class=even><td class=val><a href=\"http://kaiko.getalp.org/dbnary/ita/___it_dbnary_dataset\" target=\"_other\">http://kaiko.getalp.org/dbnary/ita/___it_dbnary_dataset</a></td></tr><tr class=odd><td class=val><a href=\"http://kaiko.getalp.org/dbnary/ind/___id_dbnary_dataset\" target=\"_other\">http://kaiko.getalp.org/dbnary/ind/___id_dbnary_dataset</a></td></tr><tr class=even><td class=val><a href=\"http://kaiko.getalp.org/dbnary/lit/___lt_dbnary_dataset\" target=\"_other\">http://kaiko.getalp.org/dbnary/lit/___lt_dbnary_dataset</a></td></tr><tr class=odd><td class=val><a href=\"http://kaiko.getalp.org/dbnary/tur/___tr_dbnary_dataset\" target=\"_other\">http://kaiko.getalp.org/dbnary/tur/___tr_dbnary_dataset</a></td></tr><tr class=even><td class=val><a href=\"http://kaiko.getalp.org/dbnary/lat/___la_dbnary_dataset\" target=\"_other\">http://kaiko.getalp.org/dbnary/lat/___la_dbnary_dataset</a></td></tr><tr class=odd><td class=val><a href=\"http://kaiko.getalp.org/dbnary/nld/___nl_dbnary_dataset\" target=\"_other\">http://kaiko.getalp.org/dbnary/nld/___nl_dbnary_dataset</a></td></tr><tr class=even><td class=val><a href=\"http://kaiko.getalp.org/dbnary/por/___pt_dbnary_dataset\" target=\"_other\">http://kaiko.getalp.org/dbnary/por/___pt_dbnary_dataset</a></td></tr><tr class=odd><td class=val><a href=\"http://kaiko.getalp.org/dbnary/pol/___pl_dbnary_dataset\" target=\"_other\">http://kaiko.getalp.org/dbnary/pol/___pl_dbnary_dataset</a></td></tr><tr class=even><td class=val><a href=\"http://kaiko.getalp.org/dbnary/rus/___ru_dbnary_dataset\" target=\"_other\">http://kaiko.getalp.org/dbnary/rus/___ru_dbnary_dataset</a></td></tr></table><div class=\"tinfo\">Total: 22, Shown: 20</div></div>"
      ]
     },
     "metadata": {},
     "output_type": "display_data"
    }
   ],
   "source": [
    "select distinct ?lexicon where {?lexicon a lime:Lexicon}"
   ]
  },
  {
   "cell_type": "markdown",
   "id": "c036ee96",
   "metadata": {},
   "source": [
    "A more detailled description of the French Lexicon may be accessed using : "
   ]
  },
  {
   "cell_type": "code",
   "execution_count": 4,
   "id": "2cb2b9a3",
   "metadata": {},
   "outputs": [
    {
     "data": {
      "text/html": [
       "<div class=\"krn-spql\"><div class=\"magic\">Display: table</div></div>"
      ],
      "text/plain": [
       "Display: table\n"
      ]
     },
     "metadata": {},
     "output_type": "display_data"
    },
    {
     "data": {
      "text/html": [
       "<div class=\"krn-spql\"><table><tr class=hdr><th>subject</th>\n",
       "<th>predicate</th>\n",
       "<th>object</th></tr><tr class=odd><td class=val><a href=\"http://kaiko.getalp.org/dbnary/fra/___fr_dbnary_dataset\" target=\"_other\">http://kaiko.getalp.org/dbnary/fra/___fr_dbnary_dataset</a></td>\n",
       "<td class=val><a href=\"http://www.w3.org/1999/02/22-rdf-syntax-ns#type\" target=\"_other\">http://www.w3.org/1999/02/22-rdf-syntax-ns#type</a></td>\n",
       "<td class=val><a href=\"http://www.w3.org/ns/lemon/lime#Lexicon\" target=\"_other\">http://www.w3.org/ns/lemon/lime#Lexicon</a></td></tr><tr class=even><td class=val><a href=\"http://kaiko.getalp.org/dbnary/fra/___fr_dbnary_dataset\" target=\"_other\">http://kaiko.getalp.org/dbnary/fra/___fr_dbnary_dataset</a></td>\n",
       "<td class=val><a href=\"http://purl.org/dc/terms/description\" target=\"_other\">http://purl.org/dc/terms/description</a></td>\n",
       "<td class=val>Cet ensemble de données est extrait du wiktionnaire original disponible à http://fr.wiktionary.org/ par le programme d'extraction de DBnary.</td></tr><tr class=odd><td class=val><a href=\"http://kaiko.getalp.org/dbnary/fra/___fr_dbnary_dataset\" target=\"_other\">http://kaiko.getalp.org/dbnary/fra/___fr_dbnary_dataset</a></td>\n",
       "<td class=val><a href=\"http://purl.org/dc/terms/title\" target=\"_other\">http://purl.org/dc/terms/title</a></td>\n",
       "<td class=val>Dataset DBnary français</td></tr><tr class=even><td class=val><a href=\"http://kaiko.getalp.org/dbnary/fra/___fr_dbnary_dataset\" target=\"_other\">http://kaiko.getalp.org/dbnary/fra/___fr_dbnary_dataset</a></td>\n",
       "<td class=val><a href=\"http://purl.org/dc/terms/title\" target=\"_other\">http://purl.org/dc/terms/title</a></td>\n",
       "<td class=val>French DBnary Dataset</td></tr><tr class=odd><td class=val><a href=\"http://kaiko.getalp.org/dbnary/fra/___fr_dbnary_dataset\" target=\"_other\">http://kaiko.getalp.org/dbnary/fra/___fr_dbnary_dataset</a></td>\n",
       "<td class=val><a href=\"http://purl.org/dc/terms/creator\" target=\"_other\">http://purl.org/dc/terms/creator</a></td>\n",
       "<td class=val><a href=\"http://serasset.bitbucket.io/\" target=\"_other\">http://serasset.bitbucket.io/</a></td></tr><tr class=even><td class=val><a href=\"http://kaiko.getalp.org/dbnary/fra/___fr_dbnary_dataset\" target=\"_other\">http://kaiko.getalp.org/dbnary/fra/___fr_dbnary_dataset</a></td>\n",
       "<td class=val><a href=\"http://www.w3.org/ns/lemon/lime#linguisticCatalog\" target=\"_other\">http://www.w3.org/ns/lemon/lime#linguisticCatalog</a></td>\n",
       "<td class=val>http://lexvo.org/id/iso639-3/</td></tr><tr class=odd><td class=val><a href=\"http://kaiko.getalp.org/dbnary/fra/___fr_dbnary_dataset\" target=\"_other\">http://kaiko.getalp.org/dbnary/fra/___fr_dbnary_dataset</a></td>\n",
       "<td class=val><a href=\"http://purl.org/dc/terms/modified\" target=\"_other\">http://purl.org/dc/terms/modified</a></td>\n",
       "<td class=val>2022-05-31</td></tr><tr class=even><td class=val><a href=\"http://kaiko.getalp.org/dbnary/fra/___fr_dbnary_dataset\" target=\"_other\">http://kaiko.getalp.org/dbnary/fra/___fr_dbnary_dataset</a></td>\n",
       "<td class=val><a href=\"http://www.w3.org/ns/lemon/lime#lexicalEntries\" target=\"_other\">http://www.w3.org/ns/lemon/lime#lexicalEntries</a></td>\n",
       "<td class=val>1474972</td></tr><tr class=odd><td class=val><a href=\"http://kaiko.getalp.org/dbnary/fra/___fr_dbnary_dataset\" target=\"_other\">http://kaiko.getalp.org/dbnary/fra/___fr_dbnary_dataset</a></td>\n",
       "<td class=val><a href=\"http://www.w3.org/ns/lemon/lime#language\" target=\"_other\">http://www.w3.org/ns/lemon/lime#language</a></td>\n",
       "<td class=val>fr</td></tr><tr class=even><td class=val><a href=\"http://kaiko.getalp.org/dbnary/fra/___fr_dbnary_dataset\" target=\"_other\">http://kaiko.getalp.org/dbnary/fra/___fr_dbnary_dataset</a></td>\n",
       "<td class=val><a href=\"http://www.w3.org/ns/lemon/lime#linguisticCatalog\" target=\"_other\">http://www.w3.org/ns/lemon/lime#linguisticCatalog</a></td>\n",
       "<td class=val>http://www.lexinfo.net/ontology/2.0/lexinfo#</td></tr><tr class=odd><td class=val><a href=\"http://kaiko.getalp.org/dbnary/fra/___fr_dbnary_dataset\" target=\"_other\">http://kaiko.getalp.org/dbnary/fra/___fr_dbnary_dataset</a></td>\n",
       "<td class=val><a href=\"http://kaiko.getalp.org/dbnary#wiktionaryDumpVersion\" target=\"_other\">http://kaiko.getalp.org/dbnary#wiktionaryDumpVersion</a></td>\n",
       "<td class=val>20220501</td></tr><tr class=even><td class=val><a href=\"http://kaiko.getalp.org/dbnary/fra/___fr_dbnary_dataset\" target=\"_other\">http://kaiko.getalp.org/dbnary/fra/___fr_dbnary_dataset</a></td>\n",
       "<td class=val><a href=\"http://xmlns.com/foaf/0.1/page\" target=\"_other\">http://xmlns.com/foaf/0.1/page</a></td>\n",
       "<td class=val>http://kaiko.getalp.org/static/ontolex/fr</td></tr><tr class=odd><td class=val><a href=\"http://kaiko.getalp.org/dbnary/fra/___fr_dbnary_dataset\" target=\"_other\">http://kaiko.getalp.org/dbnary/fra/___fr_dbnary_dataset</a></td>\n",
       "<td class=val><a href=\"http://purl.org/dc/terms/description\" target=\"_other\">http://purl.org/dc/terms/description</a></td>\n",
       "<td class=val>This lexicon is extracted from the original wiktionary data that can be found in http://fr.wiktionary.org/ by the DBnary Extractor.</td></tr><tr class=even><td class=val><a href=\"http://kaiko.getalp.org/dbnary/fra/___fr_dbnary_dataset\" target=\"_other\">http://kaiko.getalp.org/dbnary/fra/___fr_dbnary_dataset</a></td>\n",
       "<td class=val><a href=\"http://purl.org/dc/terms/created\" target=\"_other\">http://purl.org/dc/terms/created</a></td>\n",
       "<td class=val>2022-05-02T02:14:41.159000+00:00</td></tr><tr class=odd><td class=val><a href=\"http://kaiko.getalp.org/dbnary/fra/___fr_dbnary_dataset\" target=\"_other\">http://kaiko.getalp.org/dbnary/fra/___fr_dbnary_dataset</a></td>\n",
       "<td class=val><a href=\"http://purl.org/dc/terms/source\" target=\"_other\">http://purl.org/dc/terms/source</a></td>\n",
       "<td class=val>http://fr.wiktionary.org/</td></tr><tr class=even><td class=val><a href=\"http://kaiko.getalp.org/dbnary/fra/___fr_dbnary_dataset\" target=\"_other\">http://kaiko.getalp.org/dbnary/fra/___fr_dbnary_dataset</a></td>\n",
       "<td class=val><a href=\"http://purl.org/dc/terms/language\" target=\"_other\">http://purl.org/dc/terms/language</a></td>\n",
       "<td class=val><a href=\"http://lexvo.org/id/iso639-3/fra\" target=\"_other\">http://lexvo.org/id/iso639-3/fra</a></td></tr><tr class=odd><td class=val><a href=\"http://kaiko.getalp.org/dbnary/fra/___fr_dbnary_dataset\" target=\"_other\">http://kaiko.getalp.org/dbnary/fra/___fr_dbnary_dataset</a></td>\n",
       "<td class=val><a href=\"http://www.w3.org/ns/lemon/lime#linguisticCatalog\" target=\"_other\">http://www.w3.org/ns/lemon/lime#linguisticCatalog</a></td>\n",
       "<td class=val>http://purl.org/olia/olia.owl#</td></tr><tr class=even><td class=val><a href=\"http://kaiko.getalp.org/dbnary/fra/___fr_dbnary_dataset\" target=\"_other\">http://kaiko.getalp.org/dbnary/fra/___fr_dbnary_dataset</a></td>\n",
       "<td class=val><a href=\"http://xmlns.com/foaf/0.1/homepage\" target=\"_other\">http://xmlns.com/foaf/0.1/homepage</a></td>\n",
       "<td class=val>http://kaiko.getalp.org/about-dbnary</td></tr></table><div class=\"tinfo\">Shown: 18, Total rows: 18</div></div>"
      ]
     },
     "metadata": {},
     "output_type": "display_data"
    }
   ],
   "source": [
    "%display table\n",
    "DESCRIBE <http://kaiko.getalp.org/dbnary/fra/___fr_dbnary_dataset>"
   ]
  },
  {
   "cell_type": "markdown",
   "id": "9ec3444a-5baa-4373-9c49-528ee2853745",
   "metadata": {},
   "source": [
    "## Get all entries from label\n",
    "\n",
    "Here we want to get all entries with label \"chat\"@fr"
   ]
  },
  {
   "cell_type": "code",
   "execution_count": 5,
   "id": "06c14ee6-1242-4406-bde8-1d9030bbce2f",
   "metadata": {},
   "outputs": [
    {
     "data": {
      "text/html": [
       "<div class=\"krn-spql\"><table><tr class=hdr><th>le</th></tr><tr class=odd><td class=val><a href=\"http://kaiko.getalp.org/dbnary/ell/_fra__chat__ουσιαστικό__1\" target=\"_other\">http://kaiko.getalp.org/dbnary/ell/_fra__chat__ουσιαστικό__1</a></td></tr><tr class=even><td class=val><a href=\"http://kaiko.getalp.org/dbnary/ell/_fra__chat__ουσιαστικό__2\" target=\"_other\">http://kaiko.getalp.org/dbnary/ell/_fra__chat__ουσιαστικό__2</a></td></tr><tr class=odd><td class=val><a href=\"http://kaiko.getalp.org/dbnary/spa/_fra__chat__sustantivo_masculino__1\" target=\"_other\">http://kaiko.getalp.org/dbnary/spa/_fra__chat__sustantivo_masculino__1</a></td></tr><tr class=even><td class=val><a href=\"http://kaiko.getalp.org/dbnary/fra/chat__nom__1\" target=\"_other\">http://kaiko.getalp.org/dbnary/fra/chat__nom__1</a></td></tr><tr class=odd><td class=val><a href=\"http://kaiko.getalp.org/dbnary/fra/chat__nom__2\" target=\"_other\">http://kaiko.getalp.org/dbnary/fra/chat__nom__2</a></td></tr><tr class=even><td class=val><a href=\"http://kaiko.getalp.org/dbnary/fra/chat__nom__3\" target=\"_other\">http://kaiko.getalp.org/dbnary/fra/chat__nom__3</a></td></tr><tr class=odd><td class=val><a href=\"http://kaiko.getalp.org/dbnary/ita/_fra__chat__sost__1\" target=\"_other\">http://kaiko.getalp.org/dbnary/ita/_fra__chat__sost__1</a></td></tr></table><div class=\"tinfo\">Total: 7, Shown: 7</div></div>"
      ]
     },
     "metadata": {},
     "output_type": "display_data"
    }
   ],
   "source": [
    "SELECT * WHERE {\n",
    "  ?le rdfs:label \"chat\"@fr.\n",
    "}"
   ]
  },
  {
   "cell_type": "markdown",
   "id": "80c74799-0c27-4883-bb20-3ad25e638d79",
   "metadata": {},
   "source": [
    "Here, you'll see that there are entries from the Greek edition (exolexicon) along with entries from the French edition (endolexicon). So let's refine the query by asking for the French endolexicon one."
   ]
  }
 ],
 "metadata": {
  "kernelspec": {
   "display_name": "SPARQL",
   "language": "sparql",
   "name": "sparql"
  },
  "language_info": {
   "codemirror_mode": {
    "name": "sparql"
   },
   "mimetype": "application/sparql-query",
   "name": "sparql",
   "pygments_lexer": "sparql-nb"
  }
 },
 "nbformat": 4,
 "nbformat_minor": 5
}
